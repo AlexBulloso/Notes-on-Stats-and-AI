{
 "cells": [
  {
   "cell_type": "markdown",
   "id": "2d47e521",
   "metadata": {},
   "source": [
    "### Limits\n",
    "Note: All the revision on this folder was performed using https://tutorial.math.lamar.edu/Classes/CalcI/CalcI.aspx and https://tutorial.math.lamar.edu/Classes/CalcII/CalcII.aspx\n",
    "\n"
   ]
  },
  {
   "cell_type": "markdown",
   "id": "85fa0720",
   "metadata": {},
   "source": [
    "Given $\\lim_{x \\to a}f(x)$ and $\\lim_{x \\to a}g(x)$: $\\newline$\n",
    "\n",
    "1. $$\\lim_{x \\to a}[c f(x)] = c\\lim_{x \\to a}[f(x)]$$\n",
    "2. $$\\lim_{x \\to a}[f(x) \\pm g(x)] = \\lim_{x \\to a}f(x) \\pm \\lim_{x \\to a}g(x)$$\n",
    "3. $$\\lim_{x \\to a}[f(x)g(x)] = \\lim_{x \\to a}f(x) \\lim_{x \\to a}g(x)$$\n",
    "4. $$\\lim_{x \\to a}\\left[\\frac{f(x)}{g(x)}\\right] = \\frac{\\lim_{x \\to a}f(x)}{\\lim_{x \\to a}g(x)}, \\lim_{x \\to a} g(x) \\neq 0$$"
   ]
  },
  {
   "cell_type": "code",
   "execution_count": null,
   "id": "dab7f891",
   "metadata": {
    "vscode": {
     "languageId": "plaintext"
    }
   },
   "outputs": [],
   "source": []
  }
 ],
 "metadata": {
  "kernelspec": {
   "display_name": "Python 3",
   "language": "python",
   "name": "python3"
  },
  "language_info": {
   "name": "python",
   "version": "3.13.5"
  }
 },
 "nbformat": 4,
 "nbformat_minor": 5
}
