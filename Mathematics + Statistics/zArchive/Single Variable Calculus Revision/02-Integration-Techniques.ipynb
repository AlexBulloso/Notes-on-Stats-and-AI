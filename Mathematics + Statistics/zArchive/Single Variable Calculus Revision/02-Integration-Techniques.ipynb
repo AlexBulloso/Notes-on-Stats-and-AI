{
 "cells": [
  {
   "cell_type": "markdown",
   "id": "e642a611",
   "metadata": {},
   "source": [
    "### Integration Techniques\n",
    "Note: All the revision on this folder was performed using https://tutorial.math.lamar.edu/Classes/CalcI/CalcI.aspx and https://tutorial.math.lamar.edu/Classes/CalcII/CalcII.aspx\n",
    "\n"
   ]
  }
 ],
 "metadata": {
  "kernelspec": {
   "display_name": "Python 3",
   "language": "python",
   "name": "python3"
  },
  "language_info": {
   "name": "python",
   "version": "3.13.5"
  }
 },
 "nbformat": 4,
 "nbformat_minor": 5
}
