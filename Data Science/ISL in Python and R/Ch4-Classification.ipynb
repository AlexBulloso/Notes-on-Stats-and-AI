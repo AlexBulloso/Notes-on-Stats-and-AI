{
 "cells": [
  {
   "cell_type": "markdown",
   "id": "b6564cf7",
   "metadata": {},
   "source": [
    "### Ch 4 - Classification"
   ]
  },
  {
   "cell_type": "markdown",
   "id": "5654c345",
   "metadata": {},
   "source": [
    "#### 4.0 Intro"
   ]
  },
  {
   "cell_type": "markdown",
   "id": "a98cdbd3",
   "metadata": {},
   "source": [
    "- Regression assumes quantitative outputs. Classification is for categorical/qualitative outputs."
   ]
  },
  {
   "cell_type": "markdown",
   "id": "4b3e6e7f",
   "metadata": {},
   "source": [
    "#### 4.1 Overview"
   ]
  },
  {
   "cell_type": "markdown",
   "id": "cfa8f9fe",
   "metadata": {},
   "source": [
    "- Section just shows an example of classification for Credit Card defaulting given datapoints about balance and income"
   ]
  },
  {
   "cell_type": "markdown",
   "id": "3ff9fb17",
   "metadata": {},
   "source": [
    "#### 4.2 Why not Linear Regression?"
   ]
  },
  {
   "cell_type": "markdown",
   "id": "add37634",
   "metadata": {},
   "source": [
    "- It would not make sense to assign eg. 3 independent outcomes 1, 2, 3 because that assumes that the difference between 1 and 2 is the same as the difference between 2 and 3 (which is not the case if they're independent by definition!)\n",
    "- If there was a natural order (such as mild, moderate, severe), then a 1, 2, 3 coding would be reasonable but for most classification purposes, this isnt't the case.\n",
    "- For a binary (two level) qualitative response, a 0/1 coding is feasible, classifying on the border of hat Y > or < 0.5. Regression by least squares is possible, but some results would be outside of the [0, 1] interval, making them hard to interpret as probabilities. We achieve similar results from a binary linear regression model if we use linear discriminant analysis.\n",
    "\n",
    "\n",
    "In summary:\n",
    "- A regression model cannot accomodate a qualitative response with >2 classes\n",
    "- A regression method will not provide meaningful estiamtes of Pr(Y|X) even with two classes."
   ]
  },
  {
   "cell_type": "markdown",
   "id": "029bd707",
   "metadata": {},
   "source": [
    "#### 4.3 Logistic Regression"
   ]
  },
  {
   "cell_type": "markdown",
   "id": "e55197da",
   "metadata": {},
   "source": [
    "- Logistic regression models the probability that Y belongs to a particular category\n",
    "- Pr(Y = 1|X) eg. Pr(default = Yes|balance) \n",
    "    - Abbreviated as p(X), ranges [0, 1]\n",
    "    - Classification can be set as p(X) > or < 0.5, but the specific threshold can be changed depending on interpretation eg. p(balance) > 0.1 instead of 0.5 for predicting defaulting.\n",
    "  \n",
    "\n",
    "- If we used linear regression, we might expect the range to be out of [0, 1]. To avoid this, we must model p(X) with a function such that  $0 < f(X) < 1, \\forall X$\n",
    "- In logistic regression, we use the logistic function:\n",
    "$$p(X) = \\frac{e^{\\beta_0+\\beta_1X}}{1+e^{\\beta_0+\\beta_1X}}$$"
   ]
  },
  {
   "cell_type": "code",
   "execution_count": 83,
   "id": "8bd27b93",
   "metadata": {},
   "outputs": [
    {
     "data": {
      "image/png": "[encoded data removed]",
      "text/plain": [
       "<Figure size 800x800 with 1 Axes>"
      ]
     },
     "metadata": {},
     "output_type": "display_data"
    }
   ],
   "source": [
    "from matplotlib.pyplot import subplots\n",
    "import numpy as np\n",
    "\n",
    "X = np.linspace(-10,10,100)\n",
    "Y = np.exp(X)/(1+np.exp(X))\n",
    "fig, ax = subplots(figsize=(8,8))\n",
    "ax.axvline(x=0, color='black')\n",
    "ax.axhline(y=0, color = 'black', ls='--')\n",
    "ax.axhline(y=1, color = 'black', ls='--')\n",
    "ax.plot(X,Y);\n"
   ]
  },
  {
   "cell_type": "markdown",
   "id": "2ff612e3",
   "metadata": {},
   "source": [
    "- To fit the model, we use a method called maximum likelihood (discussed later). \n",
    "- After manipulation, we note that:\n",
    "$$\\frac{p(X)}{1-p(X)}=e^{\\beta_0 + \\beta_1X}$$\n",
    "The expression $\\frac{p(X)}{1-p(X)}$ is the odds and can take any value between 0 and inf.\n",
    "- By taking log of both sides, we arrive at\n",
    "$$\\text{log}\\left( \\frac{p(X)}{1-p(X)}\\right) = \\beta_0 + \\beta_1X$$\n",
    "The left side is the logit or logodds. - The logistic model has a logit linear in X. This means that increasing the X by one unit changes the log odds by beta 1 (cf linear regression, increasing X by one unit changes Y by beta 1 on average)\n",
    "- If beta 1 is positive, then increasing X will increase p(X), and vice versa"
   ]
  },
  {
   "cell_type": "markdown",
   "id": "ba5615df",
   "metadata": {},
   "source": [
    "**Estimating the Regression Coefficients**\n",
    "\n",
    "- While there is a non-linear least squares method to estimate the coefficients, maximum likelihood is preferred because of \"better statistical properties\".\n",
    "- Intuition: we want estimates for $\\beta_0$ and $\\beta_1$ such that the predicted probability $\\hat{p}(x_i)$ is as close as possible to the observed Y from data points (eg. 0 for all datapoints for case 1 and 1 for all datapoints for case 2).\n",
    "- This intution is formalised by the likelihood function:\n",
    "$$\\ell(\\beta_0, \\beta_1) = \\prod_{i:y_i=1}p(x_i) \\prod_{i{'}:y_{i^{'}}=0}(1-p(x_{i^{'}}))$$\n",
    "This estimates $\\hat{\\beta_0}$ and $\\hat{\\beta_1}$ are chosen to maximise the function.\n",
    "- The z-statistic for logistic regression plays the same role as the t-statistic. It is equal to $\\hat{\\beta_1}/\\text{SE}(\\hat{\\beta_1})$ for $\\beta_1$.\n",
    "  - Higher z-statistics provide evidence against H0 of beta 1 = 0. \n",
    "  - Null hypothesis implies $p(X) = \\frac{e^{\\beta_0}}{1+e^{\\beta_0}}$, not depending on beta 1.\n"
   ]
  },
  {
   "cell_type": "markdown",
   "id": "e5202731",
   "metadata": {},
   "source": [
    "\n",
    "**Making predictions**\n",
    "\n",
    "- We can subsitute X in the equation for $\\hat{p}(X)$ to have an estimate of the probability that X belongs in one class.\n",
    "- Qualitative predictors can be used like in linear regression by the dummy variable approach "
   ]
  },
  {
   "cell_type": "markdown",
   "id": "b822114d",
   "metadata": {},
   "source": [
    "**Multiple Logistic Regression**\n",
    "\n",
    "- The logit expression can be generalised for multiple logistic regression:\n",
    "$$\\text{log}\\left(\\frac{p(X)}{1-p(X)}\\right) = \\beta_0 + \\beta_1X_1 + \\cdots + \\beta_pX_p$$\n",
    "$$p(X) = \\frac{e^{\\beta_0 + \\beta_1X_1 + \\cdots + \\beta_pX_p}}{1+e^{\\beta_0 + \\beta_1X_1 + \\cdots + \\beta_pX_p}}$$\n",
    "where $X = X_1, ...,X_p$ are predictors\n"
   ]
  },
  {
   "cell_type": "markdown",
   "id": "02135f3b",
   "metadata": {},
   "source": [
    "**Making predictions**\n",
    "\n",
    "- The book illustrates an example for how in two different cases, the dummy variable for a qualitative can be both positive or negative. This will change depending on if the averages for Y change between more or less predictors. \n",
    "- In the specific example, it was because student and balance are correlated, and greater balances are associated with high default rates. So, while based on balance alone, students are more likely to default (as they tend to have a higher balance than non students). Based on both a fixed value of balance and income, any individual student is less likely to default than non-students. This phenomenon is called confounding."
   ]
  },
  {
   "cell_type": "markdown",
   "id": "b3dfc16a",
   "metadata": {},
   "source": [
    "**Multinomial logistic regression**\n",
    "\n",
    "- The logistic regression only allows for K = 2 classes for Y. It is possible to extend this to K > 2, referred to as multinomial logistic regression. We first select one class as the baseline. Then, without loss of generality, we select the Kth class, and replace the model with the following\n",
    "$$\\text{Pr}(Y=k|X=x)=\\frac{e^{\\beta_{k0}+\\beta_{k1}x_1+\\cdots+\\beta_{kp}x_p}}{1+\\sum_{l=1}^{K-1}e^{\\beta_{l0}+\\beta_{l1}x_1+\\cdots+\\beta_{lp}x_p}}$$\n",
    "for k = 1 to K-1. For k=K, use:\n",
    "$$\\text{Pr}(Y=k|X=x)=\\frac{1}{1+\\sum_{l=1}^{K-1}e^{\\beta_{l0}+\\beta_{l1}x_1+\\cdots+\\beta_{lp}x_p}}$$\n",
    "It can be shown that:\n",
    "$$\\text{log}\\left(\\frac{\\text{Pr}(Y=k|X=x)}{\\text{Pr}(Y=K|X=x)}\\right)=\\beta_{k0}+\\beta_{k1}x_1+\\cdots+\\beta_{kp}x_p$$\n",
    "Above bears resemblance to the logit equation for two-class logistic regression. It shows that the log odds between any pair of classes is linear in the features.\n",
    "- In the equations above, it doesn't technically matter what the Kth class is set as for the baseline. All that changes is the interpretations. The predictions and log odds between any pairs of classes will be the same.\n",
    "- Though, it should still be done with care since intepretation of the coefficients is done with respect to the baseline. \n",
    "- To interpret $\\beta_{\\text{case 1}j}$, we say that for every one-unit increase of $X_j$, then $\\frac{\\text{Pr}(\\text{case 1})}{\\text{Pr}(\\text{base case})}$ increases by $e^{\\beta_{\\text{case 1}j}}$\n",
    "- An alternative to multinomial logistic regression is softmax coding. The fitted values, log odds, and other key model outputs are the same regardless of coding. In softmax coding, the K classes are treated symmetrically rather than assigning a base line. We assume that for k = 1, ..., K:\n",
    "$$\\text{Pr}(Y=k|X=x)=\\frac{e^{\\beta_{k0}+\\beta_{k1}x_1+\\cdots+\\beta_{kp}x_p}}{\\sum_{l=1}^{K-1}e^{\\beta_{l0}+\\beta_{l1}x_1+\\cdots+\\beta_{lp}x_p}}$$\n",
    "- The log odds ratio between class k and class k' is therefore:\n",
    "$$\\text{log}\\left(\\frac{\\text{Pr}(Y=k|X=x)}{\\text{Pr}(Y=k'|X=x)}\\right)=(\\beta_{k0}-\\beta_{k'0})+(\\beta_{k1}-\\beta_{k'1})x_1+\\cdots+(\\beta_{kp}-\\beta_{k'p})x_p$$"
   ]
  },
  {
   "cell_type": "markdown",
   "id": "572a5112",
   "metadata": {},
   "source": [
    "#### 4.4 Generative Models for Classification"
   ]
  },
  {
   "cell_type": "markdown",
   "id": "bdc0dd07",
   "metadata": {},
   "source": [
    "- After considering logistic regression, we now consider an alternative an less direct approach to estimate the distribution of response Y given predictors X. \n",
    "- In this approach, the distribution of predictors X for each response class of Y. We then use Bayes' theorem to flip these into estimates for $\\text{Pr}(Y=k|X=x)$. When the distribution of X for each class is assumed to follow normal, the model is similar to logistic regression:\n",
    "- The problem with logistic regression is that when there is a lot of separation between the classes, logistic regression becomes unstable. This is avoided in these other methods. \n",
    "- If the distribution of predictors X is normal, and we have a small sample size, then these other methods may be more accurate.\n",
    "- These other methods can be extended to the case of > 2 Y classes\n",
    "\n",
    "**Basic Bayesian**\n",
    "- Suppose we want to classify an x into one of K classes, K >= 2.  So, Y takes on K possible distinct, unordered values.\n",
    "- Let $\\pi_k \\equiv \\text{Pr}(Y=k)$ represent the overall or prior probability that a random observation is from the kth class. \n",
    "- Let $f_k(X) \\equiv \\text{Pr}(X|Y=k)$ be the density function of X for an observation that comes from the kth class. f_k(X) is high if there is a high probability that an observation in the kth class has X $\\approx$ x\n",
    "- Bayes' theorem states that\n",
    "$$\\text{Pr}(Y=k|X=x) = \\frac{\\pi_kf_k(x)}{\\sum_{l=1}^K\\pi_lf_l(x)}$$\n",
    "- We define $p_k(x) = \\text{Pr}(Y=k|X=x)$. This is the _posterior_ probability that an observation X=x belongs to the kth class. (Probability in kth class given x).\n",
    "- By using Bayes' theorem, we can get a good estimate for the posterior by estimating the variables in the equation. Estimating $\\pi_k$ is easy if we have a random sample from a population, as we can compute the fraction of the training observations belonging to the kth class. Estimating the density fraction is difficult, and usually requires some simplifying assumptions.\n",
    "- We have three different estimators for $f_k(x)$: linear discriminant analysis, quadratic discriminant analysis, and naive bayes."
   ]
  },
  {
   "cell_type": "markdown",
   "id": "d1cd0353",
   "metadata": {},
   "source": [
    "**Linear Discriminant Analysis for p = 1**\n",
    "\n",
    "- Let's start assuming we have one predictor. To estimate $f_k(x)$, we assume it is normal or Gaussian. \n",
    "- The normal density takes the following:\n",
    "$$f_k(x)=\\frac{1}{\\sqrt{2\\pi}\\sigma_k}\\text{exp}\\left(-\\frac{1}{2\\sigma_k^2}(x-\\mu_k)^2\\right)$$\n",
    "with $\\mu_k \\text{ and } \\sigma_k^2$ are mean and variance parameters for kth class respectively. Assumed that there is a shared variance for all K classes $(\\sigma_1^2 = \\cdots = \\sigma_K^2)$\n",
    "- When substituted into p_k(x):\n",
    "$$p_k(x)=\\frac{\\pi_k \\frac{1}{\\sqrt{2\\pi}\\sigma_k}\\text{exp}\\left(-\\frac{1}{2\\sigma_k^2}(x-\\mu_k)^2\\right)}{\\sum_{l=1}^K\\pi_l\\frac{1}{\\sqrt{2\\pi}\\sigma_k}\\text{exp}\\left(-\\frac{1}{2\\sigma_k^2}(x-\\mu_l)^2\\right)}$$\n",
    "- The Bayes classifier involves assigning an observation X=x to the class for which p_k(x) is largest. If we take the log for the above equation, this is equivalent to assigning the observation to the class for which the following is largest:\n",
    "$$\\delta_k(x)=x\\cdot\\frac{\\mu_k}{\\sigma^2}-\\frac{\\mu_k^2}{2\\sigma^2}+\\log(\\pi_k)$$\n",
    "- It's \"Linear\" Discriminant analysis since the discriminant function $\\hat{\\delta_k}(x)$ are linear functions of x\n",
    "- The Bayes decision boundary is the point for which $\\delta_1(x) = \\delta_2(x)$. This simplifies to:\n",
    "$$ x = \\frac{\\mu_1^2-\\mu_2^2}{2(\\mu_1-\\mu_2)} = \\frac{\\mu_1+\\mu_2}{2}$$\n",
    "- The book shows an example for this, where the Bayes classifier can be computed since we know the model provided follows a Gaussian distribution. In practice, even if we are certain of the assumption that X ~ Gaussian distribution, we still need to estimate the parameters for the means, the priors, and our variance. \n",
    "- The linear discriminant analysis (LDA) method approximates these parameters to approximate the Bayes classifier using the following:\n",
    "$$\\hat{\\mu}_k=\\frac{1}{n_k}\\sum_{i:y_i=k}x_i$$\n",
    "$$\\hat{\\sigma}^2=\\frac{1}{n-K}\\sum_{k=1}^K\\sum_{i:y_i=k}(x_i-\\hat{\\mu}_k)^2$$\n",
    "- Using n training observations and n_k training observations for the kth class. \n",
    "  - The estimate for the mean is the average of the training observations for the kth class. \n",
    "  - The estimate for the variance is a weighted average of sample variances for each of the K classes\n",
    "  - We sometimes have knowledge of the classes' membership probabilities which can be used directly. Otherwise, LDA estimates the priors using the proportion of training observations for the kth class: $\\hat{\\pi}_k=n_k/n$\n",
    "- These estimates are plugged into the earlier formula for $\\delta_k(x)$ to give an estimate $\\hat{\\delta}_k(x)$\n",
    "- LDA classifier results from assuming \n",
    "  - Observations from a normal distribution\n",
    "  - Class specific mean\n",
    "  - Common variance \n",
    "  - Plugging estimates into a Bayes classifier"
   ]
  },
  {
   "cell_type": "markdown",
   "id": "281b4aee",
   "metadata": {},
   "source": [
    "**Linear Discriminant Analysis for p > 1**\n",
    "\n",
    "- We extend LDA to many predictors. We assume that X = (X_1... X_p) is from a multivariate normal distribution with class-specific mean vector ($\\mu$) and common covariance matrix ($\\Sigma$).\n",
    "- The multivariate Gaussian distribution assumes each predictor follows a 1D normal distribution with some correlation between predictors. We can plot X1 and X2 on a 3D graph, with Y representing the third dimension (height). For Var(X1) = Var(X2), Cor(X1, X2) = 0, the surface has a bell shape which becomes distorted if the predictors have unequal variances or are correlated.\n",
    "- To indicate that a p-dimensional random variable X has a multivariate normal distribution, the notation is $X \\sim N(\\mu, \\Sigma)$ \n",
    "  - $\\text{E}(X)=\\mu$ is the mean of X, a vector with p components\n",
    "  - $\\text{Cov}(X)=\\Sigma$ is the p x p covariance matrix of X.\n",
    "\n",
    "Formally, the multivariate normal matrix is defined as:\n",
    "$$f(x)=\\frac{1}{(2\\pi)^{p/2}|\\sum|^{1/2}}\\text{exp}\\left(-\\frac{1}{2}(x-\\mu)^T\\Sigma^{-1}(x-\\mu)\\right)$$\n",
    "\n",
    "- Here the LDA classifier assumes that the observations in the kth class are from a multivariate normal distribution $N(\\mu_k,\\Sigma)$ where $\\mu_k$ is the class-specific mean vector and $\\Sigma$ is the common covariance matrix.\n",
    "- If we put in $f_k(X=x)$ into Bayes' theorem shows that Bayes classifier assigns an observation X = x to:\n",
    "$$\\delta_k(x)=x^T\\Sigma^{-1}\\mu_k-\\frac{1}{2}\\mu_k^T\\Sigma^{-1}\\mu_k+\\text{log}\\pi_k$$\n",
    "- We need to estimate the unknown parameters $\\mu_1,\\ldots,\\mu_K$, $\\pi_1,\\ldots,\\pi_K$, and $\\Sigma$. Again, to assign a new observation, LDA plugs in the estimates to obtain $\\hat{\\delta}_k(x)$ and classifies x for which this value is the largest. Again, the formula above is a linear function of x, hence *linear* discriminant analysis. \n",
    "\n",
    "When predicting using models such as LDA, there are caveats to low error rates:\n",
    "- Training error rates will usually be lower than test error rates as we specifically adjust parameters to do well on training data (overfitting might play a role).\n",
    "- We might run into problems if we only have a small sample size for certain classes.\n",
    "\n",
    "Our model will make errors, which can be visualised using a confusion matrix (Table 4.4)\n",
    "- Sensitivity refers to the percent of true cases for one class identified (eg. defaulters)\n",
    "- Specificity refers to the percent of true cases for the other class identified (eg. non-defaulters)\n",
    "- The reason LDA can have a very low sensitivity compared to specificity is because the Bayes classifier minimises the total number of misclassified observations regardless of class.\n",
    "\n",
    "The Bayes classifier and by extension the two-class LDA uses a threshold of 50% for the posterior probability to assign observations. If we are concerned about having false positives for one class over another, we can adjust this threshold. This is determined by domain knowledge.\n",
    "- The tradeoff made here is that while there would be a lower error rate for that specific class, the total error rate might now be higher.\n",
    "\n",
    "The ROC curve is a popular curve to display the two types of errors for all thresholds. The x-axis is the false positive rate (1-specificity) and the y-axis is the true positive rate (sensitivity).\n",
    "- The performance of a classifier is measured by the area under the ROC curve (AUC). A high AUC (close to 1) suggests the model is very good. An AUC of 0.5 suggests no information \n",
    "- An ideal ROC curve will be shaped like $\\Gamma$, hugging the top left with high true positives at low false positive rates.\n",
    "- The ROC curve for logistic regression is indistinguishable for the LDA model for the example in the book.\n",
    "\n",
    "\n",
    "Table 4.6 and 4.7 demonstrate a table explaining the true/false positive/negatives and sensitivity/specificity. In summary:\n",
    "- Actual Negative and Predicted Negative = True Negative, TN\n",
    "- Actual Negative and Predicted Positive = False Positive, FP\n",
    "- Actual Positive and Predicted Negative = False Negative, FN\n",
    "- Actual Positive and Predicted Positive = True Positive, TP\n",
    "\n",
    "- TN + FN = N* Total\n",
    "- TN + FP = N Total\n",
    "- FP + TP = P* Total\n",
    "- FN + TP = P Total\n",
    "\n",
    "- False positive rate = FP/N = Type I error, 1-Specificity\n",
    "- True positive rate = TP/P = 1-Type II error, power, sensitivity, recall\n",
    "- Positive predictive value = TP/P*, precision, 1-false discovery proportion\n",
    "- Negative predictive value = TN/N* \n",
    "  "
   ]
  },
  {
   "cell_type": "markdown",
   "id": "865b9de9",
   "metadata": {},
   "source": [
    "**Quadratic Discriminant Analysis**\n",
    "\n",
    "- LDA assumes that the observations from each class are from multivariate normal distributions with class-specific mean vectors and a common covariance matrix.\n",
    "- QDA is another approach with all these observations except that each class has a unique covariance matrix. It assumes that an observation from the kth class is of the form $X \\sim N(\\mu_k, \\Sigma_k)$ where $\\Sigma_k$ is a covariance matrix for the kth class. \n",
    "- Under this, the classifier assigns the observation X=x for which the following is the greatest:\n",
    "$$\\delta_k(x) = -\\frac{1}{2}x^T\\Sigma_k^{-1}x+x^T\\Sigma_k^{-1}\\mu_k-\\frac{1}{2}\\mu_x^T\\Sigma_k^{-1}-\\frac{1}{2}\\log|\\Sigma_k|+\\log\\pi_k$$ \n",
    "\n",
    "- We now need estimates for all of these new parameters including covariance matrices for all k. \n",
    "- The quantity x appears as a quadratic function, which is where QDA gets the name.\n",
    "- Why would we prefer LDA over QDA or vice versa? Bias-variance trade off. LDA is much less flexible than QDA and has lower variance, which is potentially better at prediction but risks high bias if the assumption that the classes share a covariance matrix is far from true.\n",
    "- LDA tends to be better with fewer training observations. QDA is preffered for larger sets, so variance of the classifier is not a major concern."
   ]
  },
  {
   "cell_type": "markdown",
   "id": "d9fb1364",
   "metadata": {},
   "source": [
    "**Naive Bayes**\n",
    "\n",
    "- Bayes' theorem provides an expression for the posterior probability given priors and the density function for an observation in the kth class. Prior are usually easily estimated, but this is not so much the case for the density function.\n",
    "-  LDA makes the strong assumption that the distribution for f_k(x) is the density function for a multivariate normal random variable with class specific mean and common covariance matrix.\n",
    "-  QDA assumes class-specific means and covariance matrices.\n",
    "-  These assumptions greatly simplify the problem of estimating K p-dimensional density functions with estimating K p-dimensional mean vectors and one (LDA) or K p x p dimensional covariance matrices.\n",
    "-  The Naive Bayes instead makes the assumption that: within the kth class, the p predictors are independent. This means that:\n",
    "$$f_k(x) = f_{k1}(x_1)\\times f_{k2}(x_2)\\times \\cdots \\times f_{kp}(x_p)$$ \n",
    "... for f_kj being the density function of the jth predictor of the kth class.\n",
    "- Estimating a p-dimensional density function is difficult because we need to consider the marginal distribution of each predictor (distributions of each predictor on their own) and the joint distribution of the predictors (association between different predictors). For the multivariate normal distribution in LDA/QDA, the association between predictors is summarised by the off-diagonal elements of the covariance matrix.\n",
    "- By assuming that the p covariates are independent within each class, the association between p predictors can be ignored by assumption that there is *no* association. \n",
    "- Even though this model seems unrealistic, it still yields good results especially where n is too small relative to p to estimate the joint distribution of predictors within each class. \n",
    "- This model introduces some bias but reduces variance, which works well in practice.\n",
    "- In making the assumption of independent predictors and substituting it into Bayes theorem, we get:\n",
    "$$\\text{Pr}(Y=k|X=x) = \\frac{\\pi_k\\times f_{k1}(x_1)\\times f_{k2}(x_2)\\times \\cdots \\times f_{kp}(x_p)}{\\sum_{l=1}^{K}\\pi_l\\times f_{l1}(x_1)\\times f_{l2}(x_2)\\times \\cdots \\times f_{lp}(x_p)}$$\n",
    "\n",
    "Now, we need to estimate each of $f_{kj}$ using training data. We have some options:\n",
    "- If X_j is quantitative, we can assume that it follows the normal distribution, $X_j|Y=k \\sim N(\\mu_{jk},\\sigma_{jk}^2)$. In each class, the jth predictor is from a normal distribution. This sounds like QDA except we assume that the predictors are independent, so it's QDA with the class-specific covariance matrix as diagonal (no off-diagonals, covs = 0).\n",
    "- If X_j is quantitative, we can use a non-parametric estimate for f_kj. We can make a histogram for observations of the jth predictor, then estimate f_kj(x_j) as a function of the training observations in the kth class which belong as the same histogram bin as x_j. An alternative is a kernal density estimator which smooths out a histogram.\n",
    "- If X_j is qualitative, then we can count the proportion of training observations for the jth predictor to each class. eg. for $X_j \\in {1,2,3}$, and we have 100 observations split into 32, 55, and 13 for each of class 1, 2, and 3, then we arrive at:\n",
    "$$\\hat{f}_{kj}(x_j)=\\begin{cases}0.32 & \\text{if } x_j = 1 \\\\0.55 & \\text{if } x_j = 2 \\\\ 0.13 & \\text{if } x_j = 3 \\end{cases} $$\n",
    "\n",
    "- When considering both naive Bayes and LDA, we would not see much improvement choosing naive Bayes over LDA for a data set with very large n compared to p, as the reduction in variance from naive Bayes is not worthwile. When p is larger or n is smaller, we would expect to see a greater payoff for LDA or QDA."
   ]
  },
  {
   "cell_type": "markdown",
   "id": "f5c51c48",
   "metadata": {},
   "source": [
    "#### 4.5 A Comparison of Classification Methods"
   ]
  },
  {
   "cell_type": "markdown",
   "id": "0b6a32a7",
   "metadata": {},
   "source": [
    "**An Analytical Comparison**\n",
    "\n",
    "- We now compare the models above with K classes, assigning observations to the class which maximises $\\text{Pr}(Y=k|X=x)$. We set K as the baseline and assign an observation to the class maximising \n",
    "$$\\log\\left(\\frac{\\text{Pr}(Y=k|X=x)}{\\text{Pr}(Y=K|X=x)}\\right)$$\n",
    "... for all k. \n",
    "\n",
    "- For LDA and using Bayes' theorem and our assumptions that the predictors within each class are from a multivariate normal density, the equation above is equal to \n",
    "$$\\log\\left(\\frac{\\pi_k}{\\pi_K}\\right)-\\frac{1}{2}(\\mu_k+\\mu_K)^T\\Sigma^{-1}(\\mu_k-\\mu_K)+x^T\\Sigma^{-1}(\\mu_k-\\mu_K)$$ \n",
    "This is equivalently\n",
    "\n",
    "$$a_k+\\sum_{j=1}^{p}b_{kj}x_j$$ \n",
    "\n",
    "... for $\\log\\left(\\frac{\\pi_k}{\\pi_K}\\right)-\\frac{1}{2}(\\mu_k+\\mu_K)^T\\Sigma^{-1}(\\mu_k-\\mu_K)$ and $b_{kj}$ is the jth component of $\\Sigma^{-1}(\\mu_k-\\mu_K)$.\n",
    "\n",
    "This is essentially still a linear function of x and like logistic regression, LDA assumes log odds of posteriors is linear in x. QDA follows a similar pattern to assume that the log odds of the posteriors are quadratic in X. For Naive Bayes, we instead have $a_k + \\sum_{j=1}^{p}g_{kj}(x_j)$ with the the sum being a sum of log functions of x, a generalised additive model.\n",
    "\n",
    "We observe the following:\n",
    "- LDA is a special case of QDA\n",
    "- Any classifier with a linear decision boundary is a special case of naive Bayes (including LDA)\n",
    "- Naive Bayes is a special case of LDA with $\\Sigma$ restricted to a diagonal matrix of the jth diagonal element of $\\sigma_j^2$\n",
    "- Neither QDA or naive Bayes is a special case of each other. Naive Bayes is restricted to an additive fit while QDA includes multiplicative terms and thus is more flexible.\n",
    "\n",
    "Multinomial logistic regression is identical to the linear form of LDA. While in LDA, the coefficients for the parameters are obtained by assuming that the observations follow a normal distribution, in logistic regression, the coefficients are chosen to maximise the likelihood function $\\ell(\\beta_0, \\beta_1)$. LDA then outperforms logistic regression if the normality assumption approximately holds (and less so if not).\n",
    "\n",
    "KNN is completely different to the classifiers in this chapter - to make a prediction, the training observations closest to x are identified and X is assigned to the class where most of these observations are classified. Hence, KNN is non-parametric as no assumptions are made about the shape of the distribution.\n",
    "- KNN is non-parametric and thus dominants LDA and logistic regression when the decision boundary is highly non-linear, if n is large and p is small\n",
    "- KNN needs a lot of observations relative to predictors (n>>p) as the non-parametric nature reduces bias while increasing variance.\n",
    "- When the decision boundary is non-linear but n is low or p is high, then QDA may be preferred to KNN\n",
    "\n",
    "\n",
    "\n",
    "\n"
   ]
  },
  {
   "cell_type": "markdown",
   "id": "e63c1198",
   "metadata": {},
   "source": [
    "**An Empirical Comparison**\n",
    "\n",
    "- The book now compares the empirical (practical) performance of the five different models in three linear and three non-linear Bayes decision boundary scenarios. p = 2.\n",
    "- For KNN, K was chosen by two methods: K = 1, and automatically by cross-validation\n",
    "- Naive Bayes assumed univariate normal densities for the features of each class (and independence of course).\n",
    "\n",
    "Scenarios\n",
    "- Scenario 1\n",
    "  - 20 observations for each class\n",
    "  - X were uncorrelated random normal variables\n",
    "  - Different mean in each class\n",
    "  - Good \n",
    "    - LDA (model is assumed by LDA)\n",
    "    - Logistic (assumes linear boundary)\n",
    "  - Poorer\n",
    "    - KNN (increased variance with no offset in error rate by reduced bias)\n",
    "    - Naive Bayes better than QDA (assumption of independence is correct)\n",
    "    - QDA worse than LDA (more flexible than necessary)\n",
    "\n",
    "\n",
    "- Scenario 2\n",
    "  - Same as scenario 1 but with correlation of -0.5\n",
    "  - Poorer\n",
    "    - Naive Bayes performs worse since (assumption of independence is violated)\n",
    "\n",
    "- Scenario 3\n",
    "  - 50 observations per class\n",
    "  - Same as scenario 2, with -ve correlation \n",
    "  - But X1 and X2 from t-distribution with n = 50 per class\n",
    "  - Good\n",
    "    - Logistic (linear fits the framework)\n",
    "  - Poorer\n",
    "    - LDA (normality assumption violated, better than others below)\n",
    "    - QDA (much worse, normality assumption violated)\n",
    "    - Naive Bayes performs worse (assumption of independence is violated)\n",
    "\n",
    "- Scenario 4\n",
    "  - Normal distribution\n",
    "  - Correlation of 0.5 in X1, -0.5 in X2\n",
    "  - Good\n",
    "    - QDA (model follows QDA assumption with quadratic decision boundaries)\n",
    "  - Poorer\n",
    "    - Naive Bayes (assumption of independence violated)\n",
    "\n",
    "- Scenario 5\n",
    "  - Normal distribution\n",
    "  - Uncorrelated predictors\n",
    "  - Non-linear decision boundary\n",
    "  - Good\n",
    "    - Naive Bayes\n",
    "    - QDA\n",
    "    - KNN-CV (very flexible gave best results)\n",
    "  - Poorer\n",
    "    - KNN, K = 1 gave worst\n",
    "\n",
    "- Scenario 6\n",
    "  - Normal distribution\n",
    "  - Different diagonal covariance matrix for each class\n",
    "  - n = 6 (very small)\n",
    "  - Good\n",
    "    - Naive Bayes (assumptions met)\n",
    "    - QDA (worse than naive Bayes due to small sample size)\n",
    "  - Poorer\n",
    "    - LDA (non-linear)\n",
    "    - Logistic (non-linear)\n",
    "    - KNN (small sample size)\n",
    "  \n",
    "- In general:\n",
    "  - LDA, Logistic for linear\n",
    "  - QDA, naive Bayes for moderately non-linear\n",
    "  - KNN for complicated decision boundaries\n",
    "\n",
    "In regression, we transformed predictors to accomodate a non-linear relationship. We can do the same with logistic regression by including eg. X^3 as a predictor. This increases variance but decreases bias, but the actual performance depends on how far this offset is. We can do the same with LDA to model an intermediate between LDA and QDA."
   ]
  },
  {
   "cell_type": "markdown",
   "id": "8e78343b",
   "metadata": {},
   "source": [
    "#### 4.6 Generalised Linear Models"
   ]
  },
  {
   "cell_type": "markdown",
   "id": "b9049821",
   "metadata": {},
   "source": [
    "Sometimes we may be faced with a situation where Y is neither qualitative nor quantitative eg. it takes on non-negative integer values, counts. \n",
    "\n",
    "**Linear Regression on Bikeshare Data**\n",
    "- While initially, the fitted linear regression model appears reasonable, some issues arise. \n",
    "- For example, some fitted values are negative.\n",
    "- When the EV of `bikers` is small, the variance is also small, and when the EV of `bikers` is big, the variance is large. This is a major violation of the assumption of the linear model that variance is constant (not a function of the covariates). The heteroscedasticity of the data makes the linear regression unsuitable.\n",
    "- The response `bikers` is integer valued. Under a linear model however, $Y = \\beta_0 + \\sum_{j=1}^p x_j \\beta_k + \\epsilon$ where $\\epsilon$ is continuous, hence Y must be continuous. So, the integer nature of Y means that a linear regression is not the best fit for the data.\n",
    "- Some of these problems can be avoided by implementing a transformation. For example, in fitting the model\n",
    "$$\\log(Y) = \\sum_{j=1}^p X_j \\beta_j + \\epsilon$$\n",
    "... we avoid negative predictions and much of the original heteroscedastiscity. However, this is not perfect as predictions are made in terms of the log of the response: \"a one-unit increase in X_j is associated with an increase in the mean of the log of Y by beta_j\".\n",
    "A log transformation also cannot be applied when Y can take 0.\n",
    "\n",
    "**Poisson Regression on Bikeshare Data**\n",
    "- The Poisson distribution: With $Y \\in {0,1,2,\\ldots}$. If Y follows the Poisson distribution, then\n",
    "$$\\text{Pr}(Y=k)=\\frac{e^{-\\lambda} \\lambda^k}{k!}\\text{ for }k = 0,1,2,\\ldots$$\n",
    "... where lambda > 0 is E(Y), which is also equal to Var(Y) for this distribution. This means that the larger Y's mean, the larger the variance.\n",
    "- The Poisson distribution is used to model counts for several reasons, including that both take on non negative integer values.\n",
    "\n",
    "Poisson distribution in practice\n",
    "- Let Y = number of users of the program in one particular huor of the day. Assume that E(Y) = lambda = 5. The probability that no users are on at this hour is $\\text{Pr}(Y=0)=\\frac{e^{-5}5^0}{5!}=e^{-5}\\approx0.0067$.\n",
    "- In reality, the mean number of users will vary as a function of the hour of the day, month of the year etc. So, instead of a fixed mean, we want it to vary with the covariates. So:\n",
    "$$\\log(\\lambda(X_1, \\ldots, X_p))=\\beta_0+\\beta_1X_1+\\cdots+\\beta_pX_p$$\n",
    "$$\\lambda(X_1,\\ldots,X_p)=e^{\\beta_0+\\beta_1X_1+\\cdots+\\beta_pX_p}$$\n",
    "... with E(Y) = lambda(X1...XP) to emphasise that it is as function of covariates. The betas are the parameters to be estimated. Rather than having lambda be linear, we take the log of lambda to ensure nonnegative values.\n",
    "- To estimate the coefficients (betas), we use the maximum likelihood for logistic regression. For n independent observations, the likelihood takes the form:\n",
    "$$\\ell(\\beta_0, \\beta_1, \\ldots,\\beta_p) = \\prod_{i=1}^{n}=\\frac{e^{-\\lambda(x_i)}\\lambda(x_i)^{y_i}}{y_i!}$$\n",
    "- Coefficients are chosen to maximise the function above.\n",
    "- When we fit the Poisson model for Bikeshare, the results are similar to those from linear regression. Some important distinctions: \n",
    "  - *Interpretation*: To interpret coeffcients, remember that an increase in $X_j$ by one unit is associated by a chance in E(Y) by a factor of $e^{\\beta_j}$ eg. The coefficient for clear to cloudy skies is -0.08, so cloudy skies are associated with a change in bike usage by $e^{-0.08}=0.923$ ie. 92.3% of people will use bikes when it is cloudy instead of clear.\n",
    "  - *Mean variance relationship*: Remember that mean = variance for Poisson, whereas variance is constant in linear regression. So, Poisson can handle mean-variance in a way linear regression cannot.\n",
    "  -  *Nonnegative fitted values*: No negative predictions in Poisson regression as the Poisson model only allows nonnegative values.\n",
    "\n",
    "\n",
    "Footnote: Bikeshare data shows variance much higher than mean, in a situation called overdispersion. This means Z-values are inflated, and a careful analysis must be made to account for this.\n"
   ]
  },
  {
   "cell_type": "markdown",
   "id": "5527f6cf",
   "metadata": {},
   "source": [
    "##### GLMs in Greater Generality\n",
    "\n",
    "Three types of regression models have been discussed: linear, logistic, and Poisson. These share common characteristics:\n",
    "- We use predictors X1 to Xp to predict a response Y. We assume these predictors follow a certain distribution\n",
    "  - Linear typically assumes normal\n",
    "  - Logistic assumes Bernoulli\n",
    "  - Poisson assumes Poisson\n",
    "- Each approach models the mean of Y as a function of X. \n",
    "  - Linear: \n",
    "   $$\\text{E}(Y|X_1, \\ldots, X_p)=\\beta_0+\\beta_1X_1+\\cdots+\\beta_pX_p$$\n",
    "  - Logistic:\n",
    "   $$\\text{E}(Y|X_1, \\ldots, X_p)=\\text{Pr}(Y=1|X_1,\\ldots,X_p)$$\n",
    "   $$ = \\frac{e^{\\beta_0+\\beta_1X_1+\\cdots+\\beta_pX_p}}{1+e^{\\beta_0+\\beta_1X_1+\\cdots+\\beta_pX_p}}$$\n",
    "  - Poisson:\n",
    "   $$\\text{E}(Y|X_1, \\ldots, X_p)=\\lambda(X_1, \\ldots, X_p)$$\n",
    "   $$= e^{\\beta_0+\\beta_1X_1+\\cdots+\\beta_pX_p}$$\n",
    "\n",
    "- The link function $\\eta$ applies a transformation to $\\text{E}(Y|X_1, \\ldots, X_p)$ so the transformed mean corresponds to the linear function of predictors:\n",
    "   $$\\eta(\\text{E}(Y|X_1, \\ldots, X_p))=\\beta_0+\\beta_1X_1+\\cdots+\\beta_pX_p$$\n",
    "   - Linear: $\\eta(\\mu)=\\mu$\n",
    "   - Logistic: $\\eta(\\mu)=\\log(\\mu/(1-\\mu))$\n",
    "   - Poisson: $\\eta(\\mu)=\\log(\\mu)$\n",
    "\n",
    "- The distributions above come from the exponential family. Other members such as Gamma and negative binomial exist. WE can perform a regression by modelling Y to one of these members and transforming the mean so that the transformed mean is a linear function of the predictors. Regression approaches like this are known as a \"generalised linear model\" (GLM)."
   ]
  },
  {
   "cell_type": "markdown",
   "id": "c08f27a3",
   "metadata": {},
   "source": [
    "#### 4.7 Lab: Logistic Regression, LDA, QDA, KNN"
   ]
  },
  {
   "cell_type": "code",
   "execution_count": 20,
   "id": "5221217e",
   "metadata": {},
   "outputs": [],
   "source": [
    "import numpy as np\n",
    "import pandas as pd\n",
    "from matplotlib.pyplot import subplots\n",
    "import statsmodels.api as sm\n",
    "from ISLP import load_data\n",
    "from ISLP.models import (ModelSpec as MS, summarize)\n",
    "\n",
    "from ISLP import confusion_table\n",
    "from ISLP.models import contrast\n",
    "from sklearn.discriminant_analysis import \\\n",
    "    (LinearDiscriminantAnalysis as LDA, \n",
    "     QuadraticDiscriminantAnalysis as QDA)\n",
    "from sklearn.naive_bayes import GaussianNB\n",
    "from sklearn.neighbors import KNeighborsClassifier\n",
    "from sklearn.preprocessing import StandardScaler\n",
    "from sklearn.model_selection import train_test_split\n",
    "from sklearn.linear_model import LogisticRegression"
   ]
  },
  {
   "cell_type": "code",
   "execution_count": 349,
   "id": "69baa9bd",
   "metadata": {},
   "outputs": [
    {
     "name": "stdout",
     "output_type": "stream",
     "text": [
      "(1250, 9)\n"
     ]
    },
    {
     "data": {
      "image/png": "[encoded data removed]",
      "text/plain": [
       "<Figure size 640x480 with 1 Axes>"
      ]
     },
     "metadata": {},
     "output_type": "display_data"
    }
   ],
   "source": [
    "Smarket = load_data('Smarket')\n",
    "Smarket.select_dtypes(include=[np.number]).corr() # Had to remove the qualitative direction variable\n",
    "print(Smarket.shape)\n",
    "Smarket.plot(y='Volume'); # shows that in general there is an increase"
   ]
  },
  {
   "cell_type": "markdown",
   "id": "36eca5cf",
   "metadata": {},
   "source": [
    "##### Logistic Regression"
   ]
  },
  {
   "cell_type": "code",
   "execution_count": 350,
   "id": "e1132b89",
   "metadata": {},
   "outputs": [
    {
     "data": {
      "text/html": [
       "<div>\n",
       "<style scoped>\n",
       "    .dataframe tbody tr th:only-of-type {\n",
       "        vertical-align: middle;\n",
       "    }\n",
       "\n",
       "    .dataframe tbody tr th {\n",
       "        vertical-align: top;\n",
       "    }\n",
       "\n",
       "    .dataframe thead th {\n",
       "        text-align: right;\n",
       "    }\n",
       "</style>\n",
       "<table border=\"1\" class=\"dataframe\">\n",
       "  <thead>\n",
       "    <tr style=\"text-align: right;\">\n",
       "      <th></th>\n",
       "      <th>coef</th>\n",
       "      <th>std err</th>\n",
       "      <th>z</th>\n",
       "      <th>P&gt;|z|</th>\n",
       "    </tr>\n",
       "  </thead>\n",
       "  <tbody>\n",
       "    <tr>\n",
       "      <th>intercept</th>\n",
       "      <td>-0.1260</td>\n",
       "      <td>0.241</td>\n",
       "      <td>-0.523</td>\n",
       "      <td>0.601</td>\n",
       "    </tr>\n",
       "    <tr>\n",
       "      <th>Lag1</th>\n",
       "      <td>-0.0731</td>\n",
       "      <td>0.050</td>\n",
       "      <td>-1.457</td>\n",
       "      <td>0.145</td>\n",
       "    </tr>\n",
       "    <tr>\n",
       "      <th>Lag2</th>\n",
       "      <td>-0.0423</td>\n",
       "      <td>0.050</td>\n",
       "      <td>-0.845</td>\n",
       "      <td>0.398</td>\n",
       "    </tr>\n",
       "    <tr>\n",
       "      <th>Lag3</th>\n",
       "      <td>0.0111</td>\n",
       "      <td>0.050</td>\n",
       "      <td>0.222</td>\n",
       "      <td>0.824</td>\n",
       "    </tr>\n",
       "    <tr>\n",
       "      <th>Lag4</th>\n",
       "      <td>0.0094</td>\n",
       "      <td>0.050</td>\n",
       "      <td>0.187</td>\n",
       "      <td>0.851</td>\n",
       "    </tr>\n",
       "    <tr>\n",
       "      <th>Lag5</th>\n",
       "      <td>0.0103</td>\n",
       "      <td>0.050</td>\n",
       "      <td>0.208</td>\n",
       "      <td>0.835</td>\n",
       "    </tr>\n",
       "    <tr>\n",
       "      <th>Volume</th>\n",
       "      <td>0.1354</td>\n",
       "      <td>0.158</td>\n",
       "      <td>0.855</td>\n",
       "      <td>0.392</td>\n",
       "    </tr>\n",
       "  </tbody>\n",
       "</table>\n",
       "</div>"
      ],
      "text/plain": [
       "             coef  std err      z  P>|z|\n",
       "intercept -0.1260    0.241 -0.523  0.601\n",
       "Lag1      -0.0731    0.050 -1.457  0.145\n",
       "Lag2      -0.0423    0.050 -0.845  0.398\n",
       "Lag3       0.0111    0.050  0.222  0.824\n",
       "Lag4       0.0094    0.050  0.187  0.851\n",
       "Lag5       0.0103    0.050  0.208  0.835\n",
       "Volume     0.1354    0.158  0.855  0.392"
      ]
     },
     "execution_count": 350,
     "metadata": {},
     "output_type": "execute_result"
    }
   ],
   "source": [
    "# Logistic Regression\n",
    "# We are fitting a model with X = Lag 1 to 5 and Volume to predict Direction.\n",
    "# sm.GLM fits GLMs\n",
    "# sm.Logit fits logistic regression models\n",
    "\n",
    "allvars = Smarket.columns.drop(['Today', 'Direction', 'Year'])\n",
    "design = MS(allvars)\n",
    "X = design.fit_transform(Smarket)\n",
    "y = Smarket.Direction == 'Up'\n",
    "\n",
    "glm = sm.GLM (y,\n",
    "              X,\n",
    "              family = sm.families.Binomial()) # binomial = logistic\n",
    "\n",
    "results = glm.fit()\n",
    "summarize(results)\n",
    "\n",
    "# The smallest p-value is 0.15 associated with Lag1, but this is not significant and shows no evidence for real association"
   ]
  },
  {
   "cell_type": "code",
   "execution_count": 351,
   "id": "bfde61e9",
   "metadata": {},
   "outputs": [
    {
     "data": {
      "text/plain": [
       "(intercept   -0.126000\n",
       " Lag1        -0.073074\n",
       " Lag2        -0.042301\n",
       " Lag3         0.011085\n",
       " Lag4         0.009359\n",
       " Lag5         0.010313\n",
       " Volume       0.135441\n",
       " dtype: float64,\n",
       " intercept    0.600700\n",
       " Lag1         0.145232\n",
       " Lag2         0.398352\n",
       " Lag3         0.824334\n",
       " Lag4         0.851445\n",
       " Lag5         0.834998\n",
       " Volume       0.392404\n",
       " dtype: float64)"
      ]
     },
     "execution_count": 351,
     "metadata": {},
     "output_type": "execute_result"
    }
   ],
   "source": [
    "results.params, results.pvalues"
   ]
  },
  {
   "cell_type": "code",
   "execution_count": 352,
   "id": "e4a843c1",
   "metadata": {},
   "outputs": [
    {
     "data": {
      "text/plain": [
       "(array([0.50708413, 0.48146788, 0.48113883, 0.51522236, 0.51078116,\n",
       "        0.50695646, 0.49265087, 0.50922916, 0.51761353, 0.48883778]),\n",
       " array(['Up', 'Down', 'Down', 'Up', 'Up', 'Up', 'Down', 'Up', 'Up', 'Down'],\n",
       "       dtype='<U4'))"
      ]
     },
     "execution_count": 352,
     "metadata": {},
     "output_type": "execute_result"
    }
   ],
   "source": [
    "# predict() can return predictions given the values of the predictors.\n",
    "# No data supplied = probabilities computed for training data used to fit logistic regression model\n",
    "\n",
    "probs = results.predict()\n",
    "labels = np.array(['Down']*1250)\n",
    "labels[probs>0.5] = 'Up'\n",
    "\n",
    "probs[:10], labels[:10]"
   ]
  },
  {
   "cell_type": "code",
   "execution_count": 353,
   "id": "eb449912",
   "metadata": {},
   "outputs": [
    {
     "data": {
      "text/plain": [
       "(Truth      Down   Up\n",
       " Predicted           \n",
       " Down        145  141\n",
       " Up          457  507,\n",
       " np.float64(0.5216))"
      ]
     },
     "execution_count": 353,
     "metadata": {},
     "output_type": "execute_result"
    }
   ],
   "source": [
    "confusion_table(labels,Smarket.Direction), np.mean(labels == Smarket.Direction)\n",
    "# This shows us that the model predicted the movement 52.2% of the time\n",
    "# But this is based off our training data. That is, 100 - 52.2 = 47.8% \n",
    "# is our training error rate which tends to be optimistic.\n",
    "# To better assess the error rate, we can separate the data into training\n",
    "# and test data."
   ]
  },
  {
   "cell_type": "code",
   "execution_count": 354,
   "id": "3c99b5b3",
   "metadata": {},
   "outputs": [
    {
     "data": {
      "text/plain": [
       "((998, 9), (252, 9))"
      ]
     },
     "execution_count": 354,
     "metadata": {},
     "output_type": "execute_result"
    }
   ],
   "source": [
    "train = (Smarket.Year < 2005)\n",
    "Smarket_train = Smarket.loc[train]\n",
    "Smarket_test = Smarket.loc[~train]\n",
    "Smarket_train.shape, Smarket_test.shape"
   ]
  },
  {
   "cell_type": "code",
   "execution_count": 355,
   "id": "d42d6376",
   "metadata": {},
   "outputs": [
    {
     "data": {
      "text/plain": [
       "np.float64(0.4801587301587302)"
      ]
     },
     "execution_count": 355,
     "metadata": {},
     "output_type": "execute_result"
    }
   ],
   "source": [
    "X_train, X_test = X.loc[train], X.loc[~train]\n",
    "y_train, y_test = y.loc[train], y.loc[~train]\n",
    "\n",
    "glm_train = sm.GLM(y_train,\n",
    "                   X_train,\n",
    "                   family = sm.families.Binomial())\n",
    "results = glm_train.fit()\n",
    "probs = results.predict(exog=X_test) # exog = (the test data we want to make predictions on)\n",
    "\n",
    "D = Smarket.Direction\n",
    "L_train, L_test = D.loc[train], D.loc[~train]\n",
    "labels = np.array([\"Down\"]*252)\n",
    "labels[probs > 0.5] = \"Up\"\n",
    "confusion_table(labels, L_test), \n",
    "np.mean(labels == L_test)\n",
    "\n",
    "# The != notation means not equal to, and so the last command computes != the test set error rate. The results are rather disappointing: the test error\n",
    "# rate is 52%, which is worse than random guessing! Of course this result\n",
    "# is not all that surprising, given that one would not generally expect to be\n",
    "# able to use previous days’ returns to predict future market performance.\n",
    "# (After all, if it were possible to do so, then the authors of this book would\n",
    "# be out striking it rich rather than writing a statistics textbook.)\n",
    "# ^ this is peak"
   ]
  },
  {
   "cell_type": "code",
   "execution_count": 356,
   "id": "d0fed39a",
   "metadata": {},
   "outputs": [
    {
     "name": "stderr",
     "output_type": "stream",
     "text": [
      "c:\\Users\\abull\\Documents\\GitHub\\Notes-on-Stats-and-AI\\.venv\\Lib\\site-packages\\statsmodels\\base\\model.py:130: ValueWarning: unknown kwargs ['family']\n",
      "  warnings.warn(msg, ValueWarning)\n"
     ]
    },
    {
     "data": {
      "text/plain": [
       "np.float64(0.5595238095238095)"
      ]
     },
     "execution_count": 356,
     "metadata": {},
     "output_type": "execute_result"
    }
   ],
   "source": [
    "model = MS([\"Lag1\", \"Lag2\"]).fit(Smarket)\n",
    "X = model.transform(Smarket)\n",
    "X_train, X_test = X.loc[train], X.loc[~train]\n",
    "glm_train = sm.GLS(y_train,\n",
    "                   X_train,\n",
    "                   family=sm.families.Binomial())\n",
    "results = glm_train.fit()\n",
    "probs = results.predict(exog=X_test)\n",
    "labels = np.array([\"Down\"] * 252)\n",
    "labels[probs > 0.5] = \"Up\"\n",
    "confusion_table(labels, Smarket.Direction.loc[~train])\n",
    "np.mean(labels == Smarket.Direction.loc[~train])"
   ]
  },
  {
   "cell_type": "code",
   "execution_count": 357,
   "id": "94cb4843",
   "metadata": {},
   "outputs": [
    {
     "data": {
      "text/plain": [
       "0    0.479214\n",
       "1    0.496118\n",
       "dtype: float64"
      ]
     },
     "execution_count": 357,
     "metadata": {},
     "output_type": "execute_result"
    }
   ],
   "source": [
    "newdata = pd.DataFrame({\"Lag1\":[1.2,1.5],\n",
    "                        \"Lag2\":[1.1, -0.8]})\n",
    "\n",
    "newX = model.transform(newdata)\n",
    "results.predict(newX)"
   ]
  },
  {
   "cell_type": "markdown",
   "id": "c2d3c4e7",
   "metadata": {},
   "source": [
    "##### Linear Discriminant Analysis"
   ]
  },
  {
   "cell_type": "code",
   "execution_count": null,
   "id": "831dfc02",
   "metadata": {},
   "outputs": [
    {
     "data": {
      "text/plain": [
       "(array([[ 0.04279022,  0.03389409],\n",
       "        [-0.03954635, -0.03132544]]),\n",
       " array(['Down', 'Up'], dtype='<U4'))"
      ]
     },
     "execution_count": 358,
     "metadata": {},
     "output_type": "execute_result"
    }
   ],
   "source": [
    "# LDA\n",
    "\n",
    "# Initialise\n",
    "\n",
    "\n",
    "lda = LDA(store_covariance=True) \n",
    "\n",
    "\n",
    "train = (Smarket.Year < 2005)\n",
    "D = Smarket.Direction\n",
    "L_train, L_test = D.loc[train], D.loc[~train]\n",
    "\n",
    "model = MS([\"Lag1\", \"Lag2\"]).fit(Smarket)\n",
    "X = model.transform(Smarket)\n",
    "X_train, X_test = X.loc[train], X.loc[~train]\n",
    "\n",
    "# LDA automatically adds an intercept\n",
    "# We remove the column corresponding to the intercept in X_train and X_test\n",
    "X_train, X_test = [M.drop(columns=[\"intercept\"]) for M in [X_train, X_test]]\n",
    "lda.fit(X_train, L_train)\n",
    "\n",
    "# X_train = training set, L_train = outcome (classes) for training set\n",
    "\n",
    "lda.means_, lda.classes_\n",
    "# lda.means_ returns estimated means for each class k (\"Down\" and \"Up\") in this case\n",
    "# So market going down associated with previous 2 days being positive and vice versa\n",
    "# eg. 0.04279 is the MEAN for LAG1 when DOWN"
   ]
  },
  {
   "cell_type": "code",
   "execution_count": 359,
   "id": "3f0adb47",
   "metadata": {},
   "outputs": [
    {
     "data": {
      "text/plain": [
       "array([0.49198397, 0.50801603])"
      ]
     },
     "execution_count": 359,
     "metadata": {},
     "output_type": "execute_result"
    }
   ],
   "source": [
    "lda.priors_ \n",
    "# Priors demonstrate the % of each in the separate classes within the training set\n",
    "# ie. Down = 0.492, Up = 0.508"
   ]
  },
  {
   "cell_type": "code",
   "execution_count": 360,
   "id": "4ebb4ed8",
   "metadata": {},
   "outputs": [
    {
     "data": {
      "text/plain": [
       "array([[-0.64201904],\n",
       "       [-0.51352928]])"
      ]
     },
     "execution_count": 360,
     "metadata": {},
     "output_type": "execute_result"
    }
   ],
   "source": [
    "lda.scalings_\n",
    "# These are the weights attributed to the model. \n",
    "# ie. score = -0.64 x Lag1 - 0.51 x Lag2\n",
    "# high score = Up, low score = Down"
   ]
  },
  {
   "cell_type": "code",
   "execution_count": 361,
   "id": "da077faa",
   "metadata": {},
   "outputs": [
    {
     "data": {
      "text/html": [
       "<div>\n",
       "<style scoped>\n",
       "    .dataframe tbody tr th:only-of-type {\n",
       "        vertical-align: middle;\n",
       "    }\n",
       "\n",
       "    .dataframe tbody tr th {\n",
       "        vertical-align: top;\n",
       "    }\n",
       "\n",
       "    .dataframe thead th {\n",
       "        text-align: right;\n",
       "    }\n",
       "</style>\n",
       "<table border=\"1\" class=\"dataframe\">\n",
       "  <thead>\n",
       "    <tr style=\"text-align: right;\">\n",
       "      <th>Truth</th>\n",
       "      <th>Down</th>\n",
       "      <th>Up</th>\n",
       "    </tr>\n",
       "    <tr>\n",
       "      <th>Predicted</th>\n",
       "      <th></th>\n",
       "      <th></th>\n",
       "    </tr>\n",
       "  </thead>\n",
       "  <tbody>\n",
       "    <tr>\n",
       "      <th>Down</th>\n",
       "      <td>35</td>\n",
       "      <td>35</td>\n",
       "    </tr>\n",
       "    <tr>\n",
       "      <th>Up</th>\n",
       "      <td>76</td>\n",
       "      <td>106</td>\n",
       "    </tr>\n",
       "  </tbody>\n",
       "</table>\n",
       "</div>"
      ],
      "text/plain": [
       "Truth      Down   Up\n",
       "Predicted           \n",
       "Down         35   35\n",
       "Up           76  106"
      ]
     },
     "execution_count": 361,
     "metadata": {},
     "output_type": "execute_result"
    }
   ],
   "source": [
    "lda_pred = lda.predict(X_test)\n",
    "\n",
    "confusion_table(lda_pred, L_test)\n"
   ]
  },
  {
   "cell_type": "code",
   "execution_count": 362,
   "id": "9235d346",
   "metadata": {},
   "outputs": [
    {
     "data": {
      "text/plain": [
       "np.True_"
      ]
     },
     "execution_count": 362,
     "metadata": {},
     "output_type": "execute_result"
    }
   ],
   "source": [
    "lda_prob = lda.predict_proba(X_test)\n",
    "# LDA predicts the class with the highest posterior probability\n",
    "# lda.predict_proba(X_test) returns an array of arrays with probabilities for each class, for each observation\n",
    "# eg. [0.42, 0.58] for the first observation means the probability it belongs to class 2 is 58%.\n",
    "# lda.predict(X_test) will be equal to lda_prob if you set the threshold to >= 0.5\n",
    "np.all(np.where(lda_prob[:,1] >= 0.5, \"Up\", \"Down\") == lda_pred)"
   ]
  },
  {
   "cell_type": "code",
   "execution_count": 363,
   "id": "6593be95",
   "metadata": {},
   "outputs": [
    {
     "data": {
      "text/plain": [
       "np.True_"
      ]
     },
     "execution_count": 363,
     "metadata": {},
     "output_type": "execute_result"
    }
   ],
   "source": [
    "# For more than 2 classes, choose the posterior with the highest probability: \n",
    "np.all([lda.classes_[i] for i in np.argmax(lda_prob,1)] == lda_pred)"
   ]
  },
  {
   "cell_type": "code",
   "execution_count": 364,
   "id": "9f91c78c",
   "metadata": {},
   "outputs": [
    {
     "data": {
      "text/plain": [
       "np.int64(0)"
      ]
     },
     "execution_count": 364,
     "metadata": {},
     "output_type": "execute_result"
    }
   ],
   "source": [
    "np.sum(lda_prob[:,0] > 0.9) # Counts number of \"Down\" with a probability of 0.9 (= 0)"
   ]
  },
  {
   "cell_type": "markdown",
   "id": "a57ab58f",
   "metadata": {},
   "source": [
    "- The LDA classifier is from the `sklearn` library\n",
    "- Methods create a generic classifier with no reference to data\n",
    "- Classifier is fit to data with `fit()`\n",
    "- Predictions are predicted with `predict()`\n",
    "- This uniformity across objects from the `sklearn` library allows copying of classifier to be used on different data (eg. for cross-validation)"
   ]
  },
  {
   "cell_type": "markdown",
   "id": "d9f73292",
   "metadata": {},
   "source": [
    "##### Quadratic Discriminant Analysis"
   ]
  },
  {
   "cell_type": "code",
   "execution_count": 365,
   "id": "796d639e",
   "metadata": {},
   "outputs": [
    {
     "data": {
      "text/plain": [
       "(array([[ 0.04279022,  0.03389409],\n",
       "        [-0.03954635, -0.03132544]]),\n",
       " array([0.49198397, 0.50801603]))"
      ]
     },
     "execution_count": 365,
     "metadata": {},
     "output_type": "execute_result"
    }
   ],
   "source": [
    "qda = QDA(store_covariance=True)\n",
    "qda.fit(X_train, L_train)\n",
    "qda.means_, qda.priors_"
   ]
  },
  {
   "cell_type": "code",
   "execution_count": 366,
   "id": "c8bdacfa",
   "metadata": {},
   "outputs": [
    {
     "data": {
      "text/plain": [
       "array([[ 1.50662277, -0.03924806],\n",
       "       [-0.03924806,  1.53559498]])"
      ]
     },
     "execution_count": 366,
     "metadata": {},
     "output_type": "execute_result"
    }
   ],
   "source": [
    "qda.covariance_[0] # qda estimates a covariance per class"
   ]
  },
  {
   "cell_type": "code",
   "execution_count": 367,
   "id": "1685dd06",
   "metadata": {},
   "outputs": [
    {
     "data": {
      "text/plain": [
       "(Truth      Down   Up\n",
       " Predicted           \n",
       " Down         30   20\n",
       " Up           81  121,\n",
       " np.float64(0.5992063492063492))"
      ]
     },
     "execution_count": 367,
     "metadata": {},
     "output_type": "execute_result"
    }
   ],
   "source": [
    "qda_pred = qda.predict(X_test) # lda_predict works the same as lda.predict()\n",
    "confusion_table(qda_pred, L_test), np.mean(qda_pred == L_test)"
   ]
  },
  {
   "cell_type": "markdown",
   "id": "4f2a8a5c",
   "metadata": {},
   "source": [
    "##### Naive Bayes"
   ]
  },
  {
   "cell_type": "code",
   "execution_count": 368,
   "id": "f70d8835",
   "metadata": {},
   "outputs": [
    {
     "data": {
      "text/plain": [
       "(array([[ 0.04279022,  0.03389409],\n",
       "        [-0.03954635, -0.03132544]]),\n",
       " array([[1.50355429, 1.53246749],\n",
       "        [1.51401364, 1.48732877]]))"
      ]
     },
     "execution_count": 368,
     "metadata": {},
     "output_type": "execute_result"
    }
   ],
   "source": [
    "NB = GaussianNB()\n",
    "NB.fit(X_train, L_train)\n",
    "NB.classes_, NB.class_prior_\n",
    "# Parameters for NB:\n",
    "NB.theta_, NB.var_"
   ]
  },
  {
   "cell_type": "code",
   "execution_count": 369,
   "id": "17e0b964",
   "metadata": {},
   "outputs": [
    {
     "data": {
      "text/plain": [
       "Lag1    1.503554\n",
       "Lag2    1.532467\n",
       "dtype: float64"
      ]
     },
     "execution_count": 369,
     "metadata": {},
     "output_type": "execute_result"
    }
   ],
   "source": [
    "X_train[L_train == \"Down\"].mean() # demonstrates that the first line of theta is \"Down\"\n",
    "X_train[L_train == \"Down\"].var(ddof=0) # demonstrates that the first line of var is \"Down\""
   ]
  },
  {
   "cell_type": "code",
   "execution_count": 370,
   "id": "7f082c94",
   "metadata": {},
   "outputs": [
    {
     "data": {
      "text/plain": [
       "(Truth      Down   Up\n",
       " Predicted           \n",
       " Down         29   20\n",
       " Up           82  121,\n",
       " np.float64(0.5952380952380952))"
      ]
     },
     "execution_count": 370,
     "metadata": {},
     "output_type": "execute_result"
    }
   ],
   "source": [
    "nb_labels = NB.predict(X_test)\n",
    "confusion_table(nb_labels, L_test), np.mean(nb_labels == L_test)\n"
   ]
  },
  {
   "cell_type": "code",
   "execution_count": 371,
   "id": "900a3dbc",
   "metadata": {},
   "outputs": [
    {
     "data": {
      "text/plain": [
       "np.True_"
      ]
     },
     "execution_count": 371,
     "metadata": {},
     "output_type": "execute_result"
    }
   ],
   "source": [
    "# NB also has a predict_proba value\n",
    "np.all(np.where(np.argmax(NB.predict_proba(X_test), 1), \"Up\", \"Down\") == NB.predict(X_test))"
   ]
  },
  {
   "cell_type": "markdown",
   "id": "3c53a809",
   "metadata": {},
   "source": [
    "##### K-Nearest-Neighbours"
   ]
  },
  {
   "cell_type": "code",
   "execution_count": 372,
   "id": "c2a7f6dd",
   "metadata": {},
   "outputs": [
    {
     "data": {
      "text/plain": [
       "(Truth      Down  Up\n",
       " Predicted          \n",
       " Down         48  55\n",
       " Up           63  86,\n",
       " np.float64(0.5317460317460317))"
      ]
     },
     "execution_count": 372,
     "metadata": {},
     "output_type": "execute_result"
    }
   ],
   "source": [
    "knn1 = KNeighborsClassifier(n_neighbors = 3)\n",
    "knn1.fit(X_train, L_train)\n",
    "knn1_pred = knn1.predict(X_test)\n",
    "confusion_table(knn1_pred, L_test), np.mean(knn1_pred == L_test)\n",
    "\n",
    "# KNN does not perform well on Smarket data, but often provides really good results"
   ]
  },
  {
   "cell_type": "code",
   "execution_count": 373,
   "id": "0e457584",
   "metadata": {},
   "outputs": [],
   "source": [
    "Caravan = load_data(\"Caravan\")\n",
    "Purchase = Caravan.Purchase\n",
    "Purchase.value_counts()\n",
    "feature_df = Caravan.drop(columns=[\"Purchase\"])"
   ]
  },
  {
   "cell_type": "code",
   "execution_count": null,
   "id": "ea980aa6",
   "metadata": {},
   "outputs": [
    {
     "data": {
      "text/html": [
       "<div>\n",
       "<style scoped>\n",
       "    .dataframe tbody tr th:only-of-type {\n",
       "        vertical-align: middle;\n",
       "    }\n",
       "\n",
       "    .dataframe tbody tr th {\n",
       "        vertical-align: top;\n",
       "    }\n",
       "\n",
       "    .dataframe thead th {\n",
       "        text-align: right;\n",
       "    }\n",
       "</style>\n",
       "<table border=\"1\" class=\"dataframe\">\n",
       "  <thead>\n",
       "    <tr style=\"text-align: right;\">\n",
       "      <th></th>\n",
       "      <th>MOSTYPE</th>\n",
       "      <th>MAANTHUI</th>\n",
       "      <th>MGEMOMV</th>\n",
       "      <th>MGEMLEEF</th>\n",
       "      <th>MOSHOOFD</th>\n",
       "      <th>MGODRK</th>\n",
       "      <th>MGODPR</th>\n",
       "      <th>MGODOV</th>\n",
       "      <th>MGODGE</th>\n",
       "      <th>MRELGE</th>\n",
       "      <th>...</th>\n",
       "      <th>ALEVEN</th>\n",
       "      <th>APERSONG</th>\n",
       "      <th>AGEZONG</th>\n",
       "      <th>AWAOREG</th>\n",
       "      <th>ABRAND</th>\n",
       "      <th>AZEILPL</th>\n",
       "      <th>APLEZIER</th>\n",
       "      <th>AFIETS</th>\n",
       "      <th>AINBOED</th>\n",
       "      <th>ABYSTAND</th>\n",
       "    </tr>\n",
       "  </thead>\n",
       "  <tbody>\n",
       "    <tr>\n",
       "      <th>0</th>\n",
       "      <td>0.680906</td>\n",
       "      <td>-0.27258</td>\n",
       "      <td>0.406697</td>\n",
       "      <td>-1.216964</td>\n",
       "      <td>0.779405</td>\n",
       "      <td>-0.694311</td>\n",
       "      <td>0.217444</td>\n",
       "      <td>-0.068711</td>\n",
       "      <td>-0.161816</td>\n",
       "      <td>0.427670</td>\n",
       "      <td>...</td>\n",
       "      <td>-0.202910</td>\n",
       "      <td>-0.073165</td>\n",
       "      <td>-0.081055</td>\n",
       "      <td>-0.05992</td>\n",
       "      <td>0.764971</td>\n",
       "      <td>-0.022706</td>\n",
       "      <td>-0.07365</td>\n",
       "      <td>-0.15062</td>\n",
       "      <td>-0.087348</td>\n",
       "      <td>-0.118816</td>\n",
       "    </tr>\n",
       "    <tr>\n",
       "      <th>1</th>\n",
       "      <td>0.992297</td>\n",
       "      <td>-0.27258</td>\n",
       "      <td>-0.859500</td>\n",
       "      <td>-1.216964</td>\n",
       "      <td>0.779405</td>\n",
       "      <td>0.302552</td>\n",
       "      <td>-0.365410</td>\n",
       "      <td>-0.068711</td>\n",
       "      <td>0.464159</td>\n",
       "      <td>-0.096077</td>\n",
       "      <td>...</td>\n",
       "      <td>-0.202910</td>\n",
       "      <td>-0.073165</td>\n",
       "      <td>-0.081055</td>\n",
       "      <td>-0.05992</td>\n",
       "      <td>0.764971</td>\n",
       "      <td>-0.022706</td>\n",
       "      <td>-0.07365</td>\n",
       "      <td>-0.15062</td>\n",
       "      <td>-0.087348</td>\n",
       "      <td>-0.118816</td>\n",
       "    </tr>\n",
       "    <tr>\n",
       "      <th>2</th>\n",
       "      <td>0.992297</td>\n",
       "      <td>-0.27258</td>\n",
       "      <td>-0.859500</td>\n",
       "      <td>-1.216964</td>\n",
       "      <td>0.779405</td>\n",
       "      <td>-0.694311</td>\n",
       "      <td>-0.365410</td>\n",
       "      <td>0.914172</td>\n",
       "      <td>0.464159</td>\n",
       "      <td>-1.667319</td>\n",
       "      <td>...</td>\n",
       "      <td>-0.202910</td>\n",
       "      <td>-0.073165</td>\n",
       "      <td>-0.081055</td>\n",
       "      <td>-0.05992</td>\n",
       "      <td>0.764971</td>\n",
       "      <td>-0.022706</td>\n",
       "      <td>-0.07365</td>\n",
       "      <td>-0.15062</td>\n",
       "      <td>-0.087348</td>\n",
       "      <td>-0.118816</td>\n",
       "    </tr>\n",
       "    <tr>\n",
       "      <th>3</th>\n",
       "      <td>-1.187437</td>\n",
       "      <td>-0.27258</td>\n",
       "      <td>0.406697</td>\n",
       "      <td>0.010755</td>\n",
       "      <td>-0.970980</td>\n",
       "      <td>1.299414</td>\n",
       "      <td>-0.948264</td>\n",
       "      <td>0.914172</td>\n",
       "      <td>0.464159</td>\n",
       "      <td>-0.619824</td>\n",
       "      <td>...</td>\n",
       "      <td>-0.202910</td>\n",
       "      <td>-0.073165</td>\n",
       "      <td>-0.081055</td>\n",
       "      <td>-0.05992</td>\n",
       "      <td>0.764971</td>\n",
       "      <td>-0.022706</td>\n",
       "      <td>-0.07365</td>\n",
       "      <td>-0.15062</td>\n",
       "      <td>-0.087348</td>\n",
       "      <td>-0.118816</td>\n",
       "    </tr>\n",
       "    <tr>\n",
       "      <th>4</th>\n",
       "      <td>1.225840</td>\n",
       "      <td>-0.27258</td>\n",
       "      <td>1.672893</td>\n",
       "      <td>-1.216964</td>\n",
       "      <td>1.479559</td>\n",
       "      <td>0.302552</td>\n",
       "      <td>-0.365410</td>\n",
       "      <td>-0.068711</td>\n",
       "      <td>0.464159</td>\n",
       "      <td>0.427670</td>\n",
       "      <td>...</td>\n",
       "      <td>-0.202910</td>\n",
       "      <td>-0.073165</td>\n",
       "      <td>-0.081055</td>\n",
       "      <td>-0.05992</td>\n",
       "      <td>0.764971</td>\n",
       "      <td>-0.022706</td>\n",
       "      <td>-0.07365</td>\n",
       "      <td>-0.15062</td>\n",
       "      <td>-0.087348</td>\n",
       "      <td>-0.118816</td>\n",
       "    </tr>\n",
       "    <tr>\n",
       "      <th>...</th>\n",
       "      <td>...</td>\n",
       "      <td>...</td>\n",
       "      <td>...</td>\n",
       "      <td>...</td>\n",
       "      <td>...</td>\n",
       "      <td>...</td>\n",
       "      <td>...</td>\n",
       "      <td>...</td>\n",
       "      <td>...</td>\n",
       "      <td>...</td>\n",
       "      <td>...</td>\n",
       "      <td>...</td>\n",
       "      <td>...</td>\n",
       "      <td>...</td>\n",
       "      <td>...</td>\n",
       "      <td>...</td>\n",
       "      <td>...</td>\n",
       "      <td>...</td>\n",
       "      <td>...</td>\n",
       "      <td>...</td>\n",
       "      <td>...</td>\n",
       "    </tr>\n",
       "    <tr>\n",
       "      <th>5817</th>\n",
       "      <td>0.914449</td>\n",
       "      <td>-0.27258</td>\n",
       "      <td>-2.125697</td>\n",
       "      <td>-1.216964</td>\n",
       "      <td>0.779405</td>\n",
       "      <td>-0.694311</td>\n",
       "      <td>0.800298</td>\n",
       "      <td>-0.068711</td>\n",
       "      <td>-0.787790</td>\n",
       "      <td>-2.714813</td>\n",
       "      <td>...</td>\n",
       "      <td>5.094585</td>\n",
       "      <td>-0.073165</td>\n",
       "      <td>-0.081055</td>\n",
       "      <td>-0.05992</td>\n",
       "      <td>0.764971</td>\n",
       "      <td>-0.022706</td>\n",
       "      <td>-0.07365</td>\n",
       "      <td>-0.15062</td>\n",
       "      <td>-0.087348</td>\n",
       "      <td>-0.118816</td>\n",
       "    </tr>\n",
       "    <tr>\n",
       "      <th>5818</th>\n",
       "      <td>0.836602</td>\n",
       "      <td>-0.27258</td>\n",
       "      <td>1.672893</td>\n",
       "      <td>1.238473</td>\n",
       "      <td>0.779405</td>\n",
       "      <td>0.302552</td>\n",
       "      <td>-0.365410</td>\n",
       "      <td>-0.068711</td>\n",
       "      <td>0.464159</td>\n",
       "      <td>-0.096077</td>\n",
       "      <td>...</td>\n",
       "      <td>-0.202910</td>\n",
       "      <td>-0.073165</td>\n",
       "      <td>-0.081055</td>\n",
       "      <td>-0.05992</td>\n",
       "      <td>0.764971</td>\n",
       "      <td>-0.022706</td>\n",
       "      <td>-0.07365</td>\n",
       "      <td>-0.15062</td>\n",
       "      <td>-0.087348</td>\n",
       "      <td>-0.118816</td>\n",
       "    </tr>\n",
       "    <tr>\n",
       "      <th>5819</th>\n",
       "      <td>0.680906</td>\n",
       "      <td>-0.27258</td>\n",
       "      <td>0.406697</td>\n",
       "      <td>1.238473</td>\n",
       "      <td>0.779405</td>\n",
       "      <td>-0.694311</td>\n",
       "      <td>0.800298</td>\n",
       "      <td>-1.051594</td>\n",
       "      <td>-0.161816</td>\n",
       "      <td>-0.619824</td>\n",
       "      <td>...</td>\n",
       "      <td>-0.202910</td>\n",
       "      <td>-0.073165</td>\n",
       "      <td>-0.081055</td>\n",
       "      <td>-0.05992</td>\n",
       "      <td>0.764971</td>\n",
       "      <td>-0.022706</td>\n",
       "      <td>-0.07365</td>\n",
       "      <td>-0.15062</td>\n",
       "      <td>-0.087348</td>\n",
       "      <td>-0.118816</td>\n",
       "    </tr>\n",
       "    <tr>\n",
       "      <th>5820</th>\n",
       "      <td>0.758754</td>\n",
       "      <td>-0.27258</td>\n",
       "      <td>0.406697</td>\n",
       "      <td>-1.216964</td>\n",
       "      <td>0.779405</td>\n",
       "      <td>-0.694311</td>\n",
       "      <td>1.383152</td>\n",
       "      <td>-1.051594</td>\n",
       "      <td>-0.787790</td>\n",
       "      <td>0.427670</td>\n",
       "      <td>...</td>\n",
       "      <td>-0.202910</td>\n",
       "      <td>-0.073165</td>\n",
       "      <td>-0.081055</td>\n",
       "      <td>-0.05992</td>\n",
       "      <td>-1.014358</td>\n",
       "      <td>-0.022706</td>\n",
       "      <td>-0.07365</td>\n",
       "      <td>-0.15062</td>\n",
       "      <td>-0.087348</td>\n",
       "      <td>-0.118816</td>\n",
       "    </tr>\n",
       "    <tr>\n",
       "      <th>5821</th>\n",
       "      <td>0.680906</td>\n",
       "      <td>-0.27258</td>\n",
       "      <td>0.406697</td>\n",
       "      <td>0.010755</td>\n",
       "      <td>0.779405</td>\n",
       "      <td>-0.694311</td>\n",
       "      <td>0.800298</td>\n",
       "      <td>-0.068711</td>\n",
       "      <td>-0.787790</td>\n",
       "      <td>0.427670</td>\n",
       "      <td>...</td>\n",
       "      <td>-0.202910</td>\n",
       "      <td>-0.073165</td>\n",
       "      <td>-0.081055</td>\n",
       "      <td>-0.05992</td>\n",
       "      <td>-1.014358</td>\n",
       "      <td>-0.022706</td>\n",
       "      <td>-0.07365</td>\n",
       "      <td>-0.15062</td>\n",
       "      <td>-0.087348</td>\n",
       "      <td>-0.118816</td>\n",
       "    </tr>\n",
       "  </tbody>\n",
       "</table>\n",
       "<p>5822 rows × 85 columns</p>\n",
       "</div>"
      ],
      "text/plain": [
       "       MOSTYPE  MAANTHUI   MGEMOMV  MGEMLEEF  MOSHOOFD    MGODRK    MGODPR  \\\n",
       "0     0.680906  -0.27258  0.406697 -1.216964  0.779405 -0.694311  0.217444   \n",
       "1     0.992297  -0.27258 -0.859500 -1.216964  0.779405  0.302552 -0.365410   \n",
       "2     0.992297  -0.27258 -0.859500 -1.216964  0.779405 -0.694311 -0.365410   \n",
       "3    -1.187437  -0.27258  0.406697  0.010755 -0.970980  1.299414 -0.948264   \n",
       "4     1.225840  -0.27258  1.672893 -1.216964  1.479559  0.302552 -0.365410   \n",
       "...        ...       ...       ...       ...       ...       ...       ...   \n",
       "5817  0.914449  -0.27258 -2.125697 -1.216964  0.779405 -0.694311  0.800298   \n",
       "5818  0.836602  -0.27258  1.672893  1.238473  0.779405  0.302552 -0.365410   \n",
       "5819  0.680906  -0.27258  0.406697  1.238473  0.779405 -0.694311  0.800298   \n",
       "5820  0.758754  -0.27258  0.406697 -1.216964  0.779405 -0.694311  1.383152   \n",
       "5821  0.680906  -0.27258  0.406697  0.010755  0.779405 -0.694311  0.800298   \n",
       "\n",
       "        MGODOV    MGODGE    MRELGE  ...    ALEVEN  APERSONG   AGEZONG  \\\n",
       "0    -0.068711 -0.161816  0.427670  ... -0.202910 -0.073165 -0.081055   \n",
       "1    -0.068711  0.464159 -0.096077  ... -0.202910 -0.073165 -0.081055   \n",
       "2     0.914172  0.464159 -1.667319  ... -0.202910 -0.073165 -0.081055   \n",
       "3     0.914172  0.464159 -0.619824  ... -0.202910 -0.073165 -0.081055   \n",
       "4    -0.068711  0.464159  0.427670  ... -0.202910 -0.073165 -0.081055   \n",
       "...        ...       ...       ...  ...       ...       ...       ...   \n",
       "5817 -0.068711 -0.787790 -2.714813  ...  5.094585 -0.073165 -0.081055   \n",
       "5818 -0.068711  0.464159 -0.096077  ... -0.202910 -0.073165 -0.081055   \n",
       "5819 -1.051594 -0.161816 -0.619824  ... -0.202910 -0.073165 -0.081055   \n",
       "5820 -1.051594 -0.787790  0.427670  ... -0.202910 -0.073165 -0.081055   \n",
       "5821 -0.068711 -0.787790  0.427670  ... -0.202910 -0.073165 -0.081055   \n",
       "\n",
       "      AWAOREG    ABRAND   AZEILPL  APLEZIER   AFIETS   AINBOED  ABYSTAND  \n",
       "0    -0.05992  0.764971 -0.022706  -0.07365 -0.15062 -0.087348 -0.118816  \n",
       "1    -0.05992  0.764971 -0.022706  -0.07365 -0.15062 -0.087348 -0.118816  \n",
       "2    -0.05992  0.764971 -0.022706  -0.07365 -0.15062 -0.087348 -0.118816  \n",
       "3    -0.05992  0.764971 -0.022706  -0.07365 -0.15062 -0.087348 -0.118816  \n",
       "4    -0.05992  0.764971 -0.022706  -0.07365 -0.15062 -0.087348 -0.118816  \n",
       "...       ...       ...       ...       ...      ...       ...       ...  \n",
       "5817 -0.05992  0.764971 -0.022706  -0.07365 -0.15062 -0.087348 -0.118816  \n",
       "5818 -0.05992  0.764971 -0.022706  -0.07365 -0.15062 -0.087348 -0.118816  \n",
       "5819 -0.05992  0.764971 -0.022706  -0.07365 -0.15062 -0.087348 -0.118816  \n",
       "5820 -0.05992 -1.014358 -0.022706  -0.07365 -0.15062 -0.087348 -0.118816  \n",
       "5821 -0.05992 -1.014358 -0.022706  -0.07365 -0.15062 -0.087348 -0.118816  \n",
       "\n",
       "[5822 rows x 85 columns]"
      ]
     },
     "execution_count": 473,
     "metadata": {},
     "output_type": "execute_result"
    }
   ],
   "source": [
    "# A problem with KNN is that a variable may be large in value but relatively small in context (eg. salary and age)\n",
    "# This is fixed by standardizing the data so all variables have mean 0 and sd 1.\n",
    "scaler = StandardScaler(with_mean = True, with_std = True, copy = True)\n",
    "scaler.fit(feature_df)\n",
    "X_std = scaler.transform(feature_df)\n",
    "\n",
    "feature_std = pd.DataFrame(X_std, columns= feature_df.columns)"
   ]
  },
  {
   "cell_type": "code",
   "execution_count": 375,
   "id": "402eb344",
   "metadata": {},
   "outputs": [
    {
     "data": {
      "text/plain": [
       "(np.float64(0.111), np.float64(0.067))"
      ]
     },
     "execution_count": 375,
     "metadata": {},
     "output_type": "execute_result"
    }
   ],
   "source": [
    "(X_train, X_test, y_train, y_test) = train_test_split(feature_std, Purchase, test_size=1000, random_state=0)\n",
    "# automatically splits the data set into the train/test set\n",
    "# non kwargs must be indexable (list, array, pd df)\n",
    "# test_size sets the number of observations\n",
    "# random_state behaves as the seed\n",
    "\n",
    "knn1 = KNeighborsClassifier(n_neighbors = 1)\n",
    "knn1_pred = knn1.fit(X_train, y_train).predict(X_test)\n",
    "np.mean(y_test != knn1_pred), np.mean(y_test != \"No\")\n",
    "# While the 11% error rate appears good, our error rate would be \n",
    "# 7% just by predicting No (null rate)."
   ]
  },
  {
   "cell_type": "code",
   "execution_count": 376,
   "id": "3ee46ac4",
   "metadata": {},
   "outputs": [
    {
     "data": {
      "text/html": [
       "<div>\n",
       "<style scoped>\n",
       "    .dataframe tbody tr th:only-of-type {\n",
       "        vertical-align: middle;\n",
       "    }\n",
       "\n",
       "    .dataframe tbody tr th {\n",
       "        vertical-align: top;\n",
       "    }\n",
       "\n",
       "    .dataframe thead th {\n",
       "        text-align: right;\n",
       "    }\n",
       "</style>\n",
       "<table border=\"1\" class=\"dataframe\">\n",
       "  <thead>\n",
       "    <tr style=\"text-align: right;\">\n",
       "      <th>Truth</th>\n",
       "      <th>No</th>\n",
       "      <th>Yes</th>\n",
       "    </tr>\n",
       "    <tr>\n",
       "      <th>Predicted</th>\n",
       "      <th></th>\n",
       "      <th></th>\n",
       "    </tr>\n",
       "  </thead>\n",
       "  <tbody>\n",
       "    <tr>\n",
       "      <th>No</th>\n",
       "      <td>880</td>\n",
       "      <td>58</td>\n",
       "    </tr>\n",
       "    <tr>\n",
       "      <th>Yes</th>\n",
       "      <td>53</td>\n",
       "      <td>9</td>\n",
       "    </tr>\n",
       "  </tbody>\n",
       "</table>\n",
       "</div>"
      ],
      "text/plain": [
       "Truth       No  Yes\n",
       "Predicted          \n",
       "No         880   58\n",
       "Yes         53    9"
      ]
     },
     "execution_count": 376,
     "metadata": {},
     "output_type": "execute_result"
    }
   ],
   "source": [
    "confusion_table(knn1_pred, y_test)\n",
    "# This means that the positive predictive value is 9 / (53+9) = 0.145 (double than random guessing)"
   ]
  },
  {
   "cell_type": "code",
   "execution_count": 377,
   "id": "f0235492",
   "metadata": {},
   "outputs": [
    {
     "name": "stdout",
     "output_type": "stream",
     "text": [
      "K=1. Pred: 62, Actual: 9, Accuracy: 14.5%\n",
      "K=2. Pred:  6, Actual: 1, Accuracy: 16.7%\n",
      "K=3. Pred: 20, Actual: 3, Accuracy: 15.0%\n",
      "K=4. Pred:  4, Actual: 0, Accuracy: 0.0%\n",
      "K=5. Pred:  7, Actual: 1, Accuracy: 14.3%\n"
     ]
    }
   ],
   "source": [
    "# Tuning parameters\n",
    "\n",
    "# Number of neighbors in KNN = tuning parameter/hyperparameter\n",
    "#   - We do not know what value to use a priori\n",
    "#   - We can use a for loop to see K = 1 to 5:\n",
    "\n",
    "for K in range(1,6):\n",
    "    knnVar = KNeighborsClassifier(n_neighbors = K)\n",
    "    knnVar_pred = knnVar.fit(X_train, y_train).predict(X_test)\n",
    "    C = confusion_table(knnVar_pred, y_test)\n",
    "    templ = (\"K={0:d}. Pred: {1:>2}, Actual: {2:d}, Accuracy: {3:.1%}\")\n",
    "    pred = C.loc[\"Yes\"].sum() # selects the number of \"Yes\" predictions, then sums\n",
    "    did_rent = C.loc[\"Yes\", \"Yes\"] # total correct \"Yes\" predictions\n",
    "    print(templ.format(\n",
    "        K,\n",
    "        pred,\n",
    "        did_rent,\n",
    "        did_rent/pred\n",
    "    ))"
   ]
  },
  {
   "cell_type": "code",
   "execution_count": 378,
   "id": "6949ea4e",
   "metadata": {},
   "outputs": [
    {
     "data": {
      "text/html": [
       "<div>\n",
       "<style scoped>\n",
       "    .dataframe tbody tr th:only-of-type {\n",
       "        vertical-align: middle;\n",
       "    }\n",
       "\n",
       "    .dataframe tbody tr th {\n",
       "        vertical-align: top;\n",
       "    }\n",
       "\n",
       "    .dataframe thead th {\n",
       "        text-align: right;\n",
       "    }\n",
       "</style>\n",
       "<table border=\"1\" class=\"dataframe\">\n",
       "  <thead>\n",
       "    <tr style=\"text-align: right;\">\n",
       "      <th>Truth</th>\n",
       "      <th>No</th>\n",
       "      <th>Yes</th>\n",
       "    </tr>\n",
       "    <tr>\n",
       "      <th>Predicted</th>\n",
       "      <th></th>\n",
       "      <th></th>\n",
       "    </tr>\n",
       "  </thead>\n",
       "  <tbody>\n",
       "    <tr>\n",
       "      <th>No</th>\n",
       "      <td>913</td>\n",
       "      <td>58</td>\n",
       "    </tr>\n",
       "    <tr>\n",
       "      <th>Yes</th>\n",
       "      <td>20</td>\n",
       "      <td>9</td>\n",
       "    </tr>\n",
       "  </tbody>\n",
       "</table>\n",
       "</div>"
      ],
      "text/plain": [
       "Truth       No  Yes\n",
       "Predicted          \n",
       "No         913   58\n",
       "Yes         20    9"
      ]
     },
     "execution_count": 378,
     "metadata": {},
     "output_type": "execute_result"
    }
   ],
   "source": [
    "# Comparison to Logistic Regression\n",
    "\n",
    "logit = LogisticRegression(C=1e10, solver=\"liblinear\")\n",
    "logit.fit(X_train, y_train)\n",
    "logit_pred = logit.predict_proba(X_test)\n",
    "logit_labels = np.where(logit_pred[:,1] > 0.25, \"Yes\", \"No\")\n",
    "confusion_table(logit_labels, y_test)\n",
    "\n",
    "# When set to 0.5, our model returned no predictions. \n",
    "# When set to > 0.25, we get an accuracy of 0.310!"
   ]
  },
  {
   "cell_type": "markdown",
   "id": "0b9b8546",
   "metadata": {},
   "source": [
    "##### Linear + Poisson Regression on Bikeshare Data"
   ]
  },
  {
   "cell_type": "code",
   "execution_count": 22,
   "id": "8d33ee8f",
   "metadata": {},
   "outputs": [
    {
     "data": {
      "text/plain": [
       "((8645, 15),\n",
       " Index(['season', 'mnth', 'day', 'hr', 'holiday', 'weekday', 'workingday',\n",
       "        'weathersit', 'temp', 'atemp', 'hum', 'windspeed', 'casual',\n",
       "        'registered', 'bikers'],\n",
       "       dtype='object'))"
      ]
     },
     "execution_count": 22,
     "metadata": {},
     "output_type": "execute_result"
    }
   ],
   "source": [
    "Bike = load_data(\"Bikeshare\")\n",
    "Bike.shape, Bike.columns"
   ]
  },
  {
   "cell_type": "code",
   "execution_count": 23,
   "id": "3c208b6a",
   "metadata": {},
   "outputs": [
    {
     "data": {
      "text/html": [
       "<div>\n",
       "<style scoped>\n",
       "    .dataframe tbody tr th:only-of-type {\n",
       "        vertical-align: middle;\n",
       "    }\n",
       "\n",
       "    .dataframe tbody tr th {\n",
       "        vertical-align: top;\n",
       "    }\n",
       "\n",
       "    .dataframe thead th {\n",
       "        text-align: right;\n",
       "    }\n",
       "</style>\n",
       "<table border=\"1\" class=\"dataframe\">\n",
       "  <thead>\n",
       "    <tr style=\"text-align: right;\">\n",
       "      <th></th>\n",
       "      <th>coef</th>\n",
       "      <th>std err</th>\n",
       "      <th>t</th>\n",
       "      <th>P&gt;|t|</th>\n",
       "    </tr>\n",
       "  </thead>\n",
       "  <tbody>\n",
       "    <tr>\n",
       "      <th>intercept</th>\n",
       "      <td>-68.6317</td>\n",
       "      <td>5.307</td>\n",
       "      <td>-12.932</td>\n",
       "      <td>0.000</td>\n",
       "    </tr>\n",
       "    <tr>\n",
       "      <th>mnth[Feb]</th>\n",
       "      <td>6.8452</td>\n",
       "      <td>4.287</td>\n",
       "      <td>1.597</td>\n",
       "      <td>0.110</td>\n",
       "    </tr>\n",
       "    <tr>\n",
       "      <th>mnth[March]</th>\n",
       "      <td>16.5514</td>\n",
       "      <td>4.301</td>\n",
       "      <td>3.848</td>\n",
       "      <td>0.000</td>\n",
       "    </tr>\n",
       "    <tr>\n",
       "      <th>mnth[April]</th>\n",
       "      <td>41.4249</td>\n",
       "      <td>4.972</td>\n",
       "      <td>8.331</td>\n",
       "      <td>0.000</td>\n",
       "    </tr>\n",
       "    <tr>\n",
       "      <th>mnth[May]</th>\n",
       "      <td>72.5571</td>\n",
       "      <td>5.641</td>\n",
       "      <td>12.862</td>\n",
       "      <td>0.000</td>\n",
       "    </tr>\n",
       "    <tr>\n",
       "      <th>mnth[June]</th>\n",
       "      <td>67.8187</td>\n",
       "      <td>6.544</td>\n",
       "      <td>10.364</td>\n",
       "      <td>0.000</td>\n",
       "    </tr>\n",
       "    <tr>\n",
       "      <th>mnth[July]</th>\n",
       "      <td>45.3245</td>\n",
       "      <td>7.081</td>\n",
       "      <td>6.401</td>\n",
       "      <td>0.000</td>\n",
       "    </tr>\n",
       "    <tr>\n",
       "      <th>mnth[Aug]</th>\n",
       "      <td>53.2430</td>\n",
       "      <td>6.640</td>\n",
       "      <td>8.019</td>\n",
       "      <td>0.000</td>\n",
       "    </tr>\n",
       "    <tr>\n",
       "      <th>mnth[Sept]</th>\n",
       "      <td>66.6783</td>\n",
       "      <td>5.925</td>\n",
       "      <td>11.254</td>\n",
       "      <td>0.000</td>\n",
       "    </tr>\n",
       "    <tr>\n",
       "      <th>mnth[Oct]</th>\n",
       "      <td>75.8343</td>\n",
       "      <td>4.950</td>\n",
       "      <td>15.319</td>\n",
       "      <td>0.000</td>\n",
       "    </tr>\n",
       "    <tr>\n",
       "      <th>mnth[Nov]</th>\n",
       "      <td>60.3100</td>\n",
       "      <td>4.610</td>\n",
       "      <td>13.083</td>\n",
       "      <td>0.000</td>\n",
       "    </tr>\n",
       "    <tr>\n",
       "      <th>mnth[Dec]</th>\n",
       "      <td>46.4577</td>\n",
       "      <td>4.271</td>\n",
       "      <td>10.878</td>\n",
       "      <td>0.000</td>\n",
       "    </tr>\n",
       "    <tr>\n",
       "      <th>hr[1]</th>\n",
       "      <td>-14.5793</td>\n",
       "      <td>5.699</td>\n",
       "      <td>-2.558</td>\n",
       "      <td>0.011</td>\n",
       "    </tr>\n",
       "    <tr>\n",
       "      <th>hr[2]</th>\n",
       "      <td>-21.5791</td>\n",
       "      <td>5.733</td>\n",
       "      <td>-3.764</td>\n",
       "      <td>0.000</td>\n",
       "    </tr>\n",
       "    <tr>\n",
       "      <th>hr[3]</th>\n",
       "      <td>-31.1408</td>\n",
       "      <td>5.778</td>\n",
       "      <td>-5.389</td>\n",
       "      <td>0.000</td>\n",
       "    </tr>\n",
       "    <tr>\n",
       "      <th>hr[4]</th>\n",
       "      <td>-36.9075</td>\n",
       "      <td>5.802</td>\n",
       "      <td>-6.361</td>\n",
       "      <td>0.000</td>\n",
       "    </tr>\n",
       "    <tr>\n",
       "      <th>hr[5]</th>\n",
       "      <td>-24.1355</td>\n",
       "      <td>5.737</td>\n",
       "      <td>-4.207</td>\n",
       "      <td>0.000</td>\n",
       "    </tr>\n",
       "    <tr>\n",
       "      <th>hr[6]</th>\n",
       "      <td>20.5997</td>\n",
       "      <td>5.704</td>\n",
       "      <td>3.612</td>\n",
       "      <td>0.000</td>\n",
       "    </tr>\n",
       "    <tr>\n",
       "      <th>hr[7]</th>\n",
       "      <td>120.0931</td>\n",
       "      <td>5.693</td>\n",
       "      <td>21.095</td>\n",
       "      <td>0.000</td>\n",
       "    </tr>\n",
       "    <tr>\n",
       "      <th>hr[8]</th>\n",
       "      <td>223.6619</td>\n",
       "      <td>5.690</td>\n",
       "      <td>39.310</td>\n",
       "      <td>0.000</td>\n",
       "    </tr>\n",
       "    <tr>\n",
       "      <th>hr[9]</th>\n",
       "      <td>120.5819</td>\n",
       "      <td>5.693</td>\n",
       "      <td>21.182</td>\n",
       "      <td>0.000</td>\n",
       "    </tr>\n",
       "    <tr>\n",
       "      <th>hr[10]</th>\n",
       "      <td>83.8013</td>\n",
       "      <td>5.705</td>\n",
       "      <td>14.689</td>\n",
       "      <td>0.000</td>\n",
       "    </tr>\n",
       "    <tr>\n",
       "      <th>hr[11]</th>\n",
       "      <td>105.4234</td>\n",
       "      <td>5.722</td>\n",
       "      <td>18.424</td>\n",
       "      <td>0.000</td>\n",
       "    </tr>\n",
       "    <tr>\n",
       "      <th>hr[12]</th>\n",
       "      <td>137.2837</td>\n",
       "      <td>5.740</td>\n",
       "      <td>23.916</td>\n",
       "      <td>0.000</td>\n",
       "    </tr>\n",
       "    <tr>\n",
       "      <th>hr[13]</th>\n",
       "      <td>136.0359</td>\n",
       "      <td>5.760</td>\n",
       "      <td>23.617</td>\n",
       "      <td>0.000</td>\n",
       "    </tr>\n",
       "    <tr>\n",
       "      <th>hr[14]</th>\n",
       "      <td>126.6361</td>\n",
       "      <td>5.776</td>\n",
       "      <td>21.923</td>\n",
       "      <td>0.000</td>\n",
       "    </tr>\n",
       "    <tr>\n",
       "      <th>hr[15]</th>\n",
       "      <td>132.0865</td>\n",
       "      <td>5.780</td>\n",
       "      <td>22.852</td>\n",
       "      <td>0.000</td>\n",
       "    </tr>\n",
       "    <tr>\n",
       "      <th>hr[16]</th>\n",
       "      <td>178.5206</td>\n",
       "      <td>5.772</td>\n",
       "      <td>30.927</td>\n",
       "      <td>0.000</td>\n",
       "    </tr>\n",
       "    <tr>\n",
       "      <th>hr[17]</th>\n",
       "      <td>296.2670</td>\n",
       "      <td>5.749</td>\n",
       "      <td>51.537</td>\n",
       "      <td>0.000</td>\n",
       "    </tr>\n",
       "    <tr>\n",
       "      <th>hr[18]</th>\n",
       "      <td>269.4409</td>\n",
       "      <td>5.736</td>\n",
       "      <td>46.976</td>\n",
       "      <td>0.000</td>\n",
       "    </tr>\n",
       "    <tr>\n",
       "      <th>hr[19]</th>\n",
       "      <td>186.2558</td>\n",
       "      <td>5.714</td>\n",
       "      <td>32.596</td>\n",
       "      <td>0.000</td>\n",
       "    </tr>\n",
       "    <tr>\n",
       "      <th>hr[20]</th>\n",
       "      <td>125.5492</td>\n",
       "      <td>5.704</td>\n",
       "      <td>22.012</td>\n",
       "      <td>0.000</td>\n",
       "    </tr>\n",
       "    <tr>\n",
       "      <th>hr[21]</th>\n",
       "      <td>87.5537</td>\n",
       "      <td>5.693</td>\n",
       "      <td>15.378</td>\n",
       "      <td>0.000</td>\n",
       "    </tr>\n",
       "    <tr>\n",
       "      <th>hr[22]</th>\n",
       "      <td>59.1226</td>\n",
       "      <td>5.689</td>\n",
       "      <td>10.392</td>\n",
       "      <td>0.000</td>\n",
       "    </tr>\n",
       "    <tr>\n",
       "      <th>hr[23]</th>\n",
       "      <td>26.8376</td>\n",
       "      <td>5.688</td>\n",
       "      <td>4.719</td>\n",
       "      <td>0.000</td>\n",
       "    </tr>\n",
       "    <tr>\n",
       "      <th>workingday</th>\n",
       "      <td>1.2696</td>\n",
       "      <td>1.784</td>\n",
       "      <td>0.711</td>\n",
       "      <td>0.477</td>\n",
       "    </tr>\n",
       "    <tr>\n",
       "      <th>temp</th>\n",
       "      <td>157.2094</td>\n",
       "      <td>10.261</td>\n",
       "      <td>15.321</td>\n",
       "      <td>0.000</td>\n",
       "    </tr>\n",
       "    <tr>\n",
       "      <th>weathersit[cloudy/misty]</th>\n",
       "      <td>-12.8903</td>\n",
       "      <td>1.964</td>\n",
       "      <td>-6.562</td>\n",
       "      <td>0.000</td>\n",
       "    </tr>\n",
       "    <tr>\n",
       "      <th>weathersit[heavy rain/snow]</th>\n",
       "      <td>-109.7446</td>\n",
       "      <td>76.667</td>\n",
       "      <td>-1.431</td>\n",
       "      <td>0.152</td>\n",
       "    </tr>\n",
       "    <tr>\n",
       "      <th>weathersit[light rain/snow]</th>\n",
       "      <td>-66.4944</td>\n",
       "      <td>2.965</td>\n",
       "      <td>-22.425</td>\n",
       "      <td>0.000</td>\n",
       "    </tr>\n",
       "  </tbody>\n",
       "</table>\n",
       "</div>"
      ],
      "text/plain": [
       "                                 coef  std err       t  P>|t|\n",
       "intercept                    -68.6317    5.307 -12.932  0.000\n",
       "mnth[Feb]                      6.8452    4.287   1.597  0.110\n",
       "mnth[March]                   16.5514    4.301   3.848  0.000\n",
       "mnth[April]                   41.4249    4.972   8.331  0.000\n",
       "mnth[May]                     72.5571    5.641  12.862  0.000\n",
       "mnth[June]                    67.8187    6.544  10.364  0.000\n",
       "mnth[July]                    45.3245    7.081   6.401  0.000\n",
       "mnth[Aug]                     53.2430    6.640   8.019  0.000\n",
       "mnth[Sept]                    66.6783    5.925  11.254  0.000\n",
       "mnth[Oct]                     75.8343    4.950  15.319  0.000\n",
       "mnth[Nov]                     60.3100    4.610  13.083  0.000\n",
       "mnth[Dec]                     46.4577    4.271  10.878  0.000\n",
       "hr[1]                        -14.5793    5.699  -2.558  0.011\n",
       "hr[2]                        -21.5791    5.733  -3.764  0.000\n",
       "hr[3]                        -31.1408    5.778  -5.389  0.000\n",
       "hr[4]                        -36.9075    5.802  -6.361  0.000\n",
       "hr[5]                        -24.1355    5.737  -4.207  0.000\n",
       "hr[6]                         20.5997    5.704   3.612  0.000\n",
       "hr[7]                        120.0931    5.693  21.095  0.000\n",
       "hr[8]                        223.6619    5.690  39.310  0.000\n",
       "hr[9]                        120.5819    5.693  21.182  0.000\n",
       "hr[10]                        83.8013    5.705  14.689  0.000\n",
       "hr[11]                       105.4234    5.722  18.424  0.000\n",
       "hr[12]                       137.2837    5.740  23.916  0.000\n",
       "hr[13]                       136.0359    5.760  23.617  0.000\n",
       "hr[14]                       126.6361    5.776  21.923  0.000\n",
       "hr[15]                       132.0865    5.780  22.852  0.000\n",
       "hr[16]                       178.5206    5.772  30.927  0.000\n",
       "hr[17]                       296.2670    5.749  51.537  0.000\n",
       "hr[18]                       269.4409    5.736  46.976  0.000\n",
       "hr[19]                       186.2558    5.714  32.596  0.000\n",
       "hr[20]                       125.5492    5.704  22.012  0.000\n",
       "hr[21]                        87.5537    5.693  15.378  0.000\n",
       "hr[22]                        59.1226    5.689  10.392  0.000\n",
       "hr[23]                        26.8376    5.688   4.719  0.000\n",
       "workingday                     1.2696    1.784   0.711  0.477\n",
       "temp                         157.2094   10.261  15.321  0.000\n",
       "weathersit[cloudy/misty]     -12.8903    1.964  -6.562  0.000\n",
       "weathersit[heavy rain/snow] -109.7446   76.667  -1.431  0.152\n",
       "weathersit[light rain/snow]  -66.4944    2.965 -22.425  0.000"
      ]
     },
     "execution_count": 23,
     "metadata": {},
     "output_type": "execute_result"
    }
   ],
   "source": [
    "# Linear Regression\n",
    "\n",
    "X = MS([\"mnth\", \"hr\", \"workingday\",\"temp\", \"weathersit\"]).fit_transform(Bike)\n",
    "Y = Bike[\"bikers\"]\n",
    "M_lm = sm.OLS(Y, X).fit()\n",
    "summarize(M_lm)"
   ]
  },
  {
   "cell_type": "code",
   "execution_count": 25,
   "id": "75c9628a",
   "metadata": {},
   "outputs": [
    {
     "data": {
      "text/html": [
       "<div>\n",
       "<style scoped>\n",
       "    .dataframe tbody tr th:only-of-type {\n",
       "        vertical-align: middle;\n",
       "    }\n",
       "\n",
       "    .dataframe tbody tr th {\n",
       "        vertical-align: top;\n",
       "    }\n",
       "\n",
       "    .dataframe thead th {\n",
       "        text-align: right;\n",
       "    }\n",
       "</style>\n",
       "<table border=\"1\" class=\"dataframe\">\n",
       "  <thead>\n",
       "    <tr style=\"text-align: right;\">\n",
       "      <th></th>\n",
       "      <th>coef</th>\n",
       "      <th>std err</th>\n",
       "      <th>t</th>\n",
       "      <th>P&gt;|t|</th>\n",
       "    </tr>\n",
       "  </thead>\n",
       "  <tbody>\n",
       "    <tr>\n",
       "      <th>intercept</th>\n",
       "      <td>73.5974</td>\n",
       "      <td>5.132</td>\n",
       "      <td>14.340</td>\n",
       "      <td>0.000</td>\n",
       "    </tr>\n",
       "    <tr>\n",
       "      <th>mnth[Jan]</th>\n",
       "      <td>-46.0871</td>\n",
       "      <td>4.085</td>\n",
       "      <td>-11.281</td>\n",
       "      <td>0.000</td>\n",
       "    </tr>\n",
       "    <tr>\n",
       "      <th>mnth[Feb]</th>\n",
       "      <td>-39.2419</td>\n",
       "      <td>3.539</td>\n",
       "      <td>-11.088</td>\n",
       "      <td>0.000</td>\n",
       "    </tr>\n",
       "    <tr>\n",
       "      <th>mnth[March]</th>\n",
       "      <td>-29.5357</td>\n",
       "      <td>3.155</td>\n",
       "      <td>-9.361</td>\n",
       "      <td>0.000</td>\n",
       "    </tr>\n",
       "    <tr>\n",
       "      <th>mnth[April]</th>\n",
       "      <td>-4.6622</td>\n",
       "      <td>2.741</td>\n",
       "      <td>-1.701</td>\n",
       "      <td>0.089</td>\n",
       "    </tr>\n",
       "    <tr>\n",
       "      <th>mnth[May]</th>\n",
       "      <td>26.4700</td>\n",
       "      <td>2.851</td>\n",
       "      <td>9.285</td>\n",
       "      <td>0.000</td>\n",
       "    </tr>\n",
       "    <tr>\n",
       "      <th>mnth[June]</th>\n",
       "      <td>21.7317</td>\n",
       "      <td>3.465</td>\n",
       "      <td>6.272</td>\n",
       "      <td>0.000</td>\n",
       "    </tr>\n",
       "    <tr>\n",
       "      <th>mnth[July]</th>\n",
       "      <td>-0.7626</td>\n",
       "      <td>3.908</td>\n",
       "      <td>-0.195</td>\n",
       "      <td>0.845</td>\n",
       "    </tr>\n",
       "    <tr>\n",
       "      <th>mnth[Aug]</th>\n",
       "      <td>7.1560</td>\n",
       "      <td>3.535</td>\n",
       "      <td>2.024</td>\n",
       "      <td>0.043</td>\n",
       "    </tr>\n",
       "    <tr>\n",
       "      <th>mnth[Sept]</th>\n",
       "      <td>20.5912</td>\n",
       "      <td>3.046</td>\n",
       "      <td>6.761</td>\n",
       "      <td>0.000</td>\n",
       "    </tr>\n",
       "    <tr>\n",
       "      <th>mnth[Oct]</th>\n",
       "      <td>29.7472</td>\n",
       "      <td>2.700</td>\n",
       "      <td>11.019</td>\n",
       "      <td>0.000</td>\n",
       "    </tr>\n",
       "    <tr>\n",
       "      <th>mnth[Nov]</th>\n",
       "      <td>14.2229</td>\n",
       "      <td>2.860</td>\n",
       "      <td>4.972</td>\n",
       "      <td>0.000</td>\n",
       "    </tr>\n",
       "    <tr>\n",
       "      <th>hr[0]</th>\n",
       "      <td>-96.1420</td>\n",
       "      <td>3.955</td>\n",
       "      <td>-24.307</td>\n",
       "      <td>0.000</td>\n",
       "    </tr>\n",
       "    <tr>\n",
       "      <th>hr[1]</th>\n",
       "      <td>-110.7213</td>\n",
       "      <td>3.966</td>\n",
       "      <td>-27.916</td>\n",
       "      <td>0.000</td>\n",
       "    </tr>\n",
       "    <tr>\n",
       "      <th>hr[2]</th>\n",
       "      <td>-117.7212</td>\n",
       "      <td>4.016</td>\n",
       "      <td>-29.310</td>\n",
       "      <td>0.000</td>\n",
       "    </tr>\n",
       "    <tr>\n",
       "      <th>hr[3]</th>\n",
       "      <td>-127.2828</td>\n",
       "      <td>4.081</td>\n",
       "      <td>-31.191</td>\n",
       "      <td>0.000</td>\n",
       "    </tr>\n",
       "    <tr>\n",
       "      <th>hr[4]</th>\n",
       "      <td>-133.0495</td>\n",
       "      <td>4.117</td>\n",
       "      <td>-32.319</td>\n",
       "      <td>0.000</td>\n",
       "    </tr>\n",
       "    <tr>\n",
       "      <th>hr[5]</th>\n",
       "      <td>-120.2775</td>\n",
       "      <td>4.037</td>\n",
       "      <td>-29.794</td>\n",
       "      <td>0.000</td>\n",
       "    </tr>\n",
       "    <tr>\n",
       "      <th>hr[6]</th>\n",
       "      <td>-75.5424</td>\n",
       "      <td>3.992</td>\n",
       "      <td>-18.925</td>\n",
       "      <td>0.000</td>\n",
       "    </tr>\n",
       "    <tr>\n",
       "      <th>hr[7]</th>\n",
       "      <td>23.9511</td>\n",
       "      <td>3.969</td>\n",
       "      <td>6.035</td>\n",
       "      <td>0.000</td>\n",
       "    </tr>\n",
       "    <tr>\n",
       "      <th>hr[8]</th>\n",
       "      <td>127.5199</td>\n",
       "      <td>3.950</td>\n",
       "      <td>32.284</td>\n",
       "      <td>0.000</td>\n",
       "    </tr>\n",
       "    <tr>\n",
       "      <th>hr[9]</th>\n",
       "      <td>24.4399</td>\n",
       "      <td>3.936</td>\n",
       "      <td>6.209</td>\n",
       "      <td>0.000</td>\n",
       "    </tr>\n",
       "    <tr>\n",
       "      <th>hr[10]</th>\n",
       "      <td>-12.3407</td>\n",
       "      <td>3.936</td>\n",
       "      <td>-3.135</td>\n",
       "      <td>0.002</td>\n",
       "    </tr>\n",
       "    <tr>\n",
       "      <th>hr[11]</th>\n",
       "      <td>9.2814</td>\n",
       "      <td>3.945</td>\n",
       "      <td>2.353</td>\n",
       "      <td>0.019</td>\n",
       "    </tr>\n",
       "    <tr>\n",
       "      <th>hr[12]</th>\n",
       "      <td>41.1417</td>\n",
       "      <td>3.957</td>\n",
       "      <td>10.397</td>\n",
       "      <td>0.000</td>\n",
       "    </tr>\n",
       "    <tr>\n",
       "      <th>hr[13]</th>\n",
       "      <td>39.8939</td>\n",
       "      <td>3.975</td>\n",
       "      <td>10.036</td>\n",
       "      <td>0.000</td>\n",
       "    </tr>\n",
       "    <tr>\n",
       "      <th>hr[14]</th>\n",
       "      <td>30.4940</td>\n",
       "      <td>3.991</td>\n",
       "      <td>7.641</td>\n",
       "      <td>0.000</td>\n",
       "    </tr>\n",
       "    <tr>\n",
       "      <th>hr[15]</th>\n",
       "      <td>35.9445</td>\n",
       "      <td>3.995</td>\n",
       "      <td>8.998</td>\n",
       "      <td>0.000</td>\n",
       "    </tr>\n",
       "    <tr>\n",
       "      <th>hr[16]</th>\n",
       "      <td>82.3786</td>\n",
       "      <td>3.988</td>\n",
       "      <td>20.655</td>\n",
       "      <td>0.000</td>\n",
       "    </tr>\n",
       "    <tr>\n",
       "      <th>hr[17]</th>\n",
       "      <td>200.1249</td>\n",
       "      <td>3.964</td>\n",
       "      <td>50.488</td>\n",
       "      <td>0.000</td>\n",
       "    </tr>\n",
       "    <tr>\n",
       "      <th>hr[18]</th>\n",
       "      <td>173.2989</td>\n",
       "      <td>3.956</td>\n",
       "      <td>43.806</td>\n",
       "      <td>0.000</td>\n",
       "    </tr>\n",
       "    <tr>\n",
       "      <th>hr[19]</th>\n",
       "      <td>90.1138</td>\n",
       "      <td>3.940</td>\n",
       "      <td>22.872</td>\n",
       "      <td>0.000</td>\n",
       "    </tr>\n",
       "    <tr>\n",
       "      <th>hr[20]</th>\n",
       "      <td>29.4071</td>\n",
       "      <td>3.936</td>\n",
       "      <td>7.471</td>\n",
       "      <td>0.000</td>\n",
       "    </tr>\n",
       "    <tr>\n",
       "      <th>hr[21]</th>\n",
       "      <td>-8.5883</td>\n",
       "      <td>3.933</td>\n",
       "      <td>-2.184</td>\n",
       "      <td>0.029</td>\n",
       "    </tr>\n",
       "    <tr>\n",
       "      <th>hr[22]</th>\n",
       "      <td>-37.0194</td>\n",
       "      <td>3.934</td>\n",
       "      <td>-9.409</td>\n",
       "      <td>0.000</td>\n",
       "    </tr>\n",
       "    <tr>\n",
       "      <th>workingday</th>\n",
       "      <td>1.2696</td>\n",
       "      <td>1.784</td>\n",
       "      <td>0.711</td>\n",
       "      <td>0.477</td>\n",
       "    </tr>\n",
       "    <tr>\n",
       "      <th>temp</th>\n",
       "      <td>157.2094</td>\n",
       "      <td>10.261</td>\n",
       "      <td>15.321</td>\n",
       "      <td>0.000</td>\n",
       "    </tr>\n",
       "    <tr>\n",
       "      <th>weathersit[cloudy/misty]</th>\n",
       "      <td>-12.8903</td>\n",
       "      <td>1.964</td>\n",
       "      <td>-6.562</td>\n",
       "      <td>0.000</td>\n",
       "    </tr>\n",
       "    <tr>\n",
       "      <th>weathersit[heavy rain/snow]</th>\n",
       "      <td>-109.7446</td>\n",
       "      <td>76.667</td>\n",
       "      <td>-1.431</td>\n",
       "      <td>0.152</td>\n",
       "    </tr>\n",
       "    <tr>\n",
       "      <th>weathersit[light rain/snow]</th>\n",
       "      <td>-66.4944</td>\n",
       "      <td>2.965</td>\n",
       "      <td>-22.425</td>\n",
       "      <td>0.000</td>\n",
       "    </tr>\n",
       "  </tbody>\n",
       "</table>\n",
       "</div>"
      ],
      "text/plain": [
       "                                 coef  std err       t  P>|t|\n",
       "intercept                     73.5974    5.132  14.340  0.000\n",
       "mnth[Jan]                    -46.0871    4.085 -11.281  0.000\n",
       "mnth[Feb]                    -39.2419    3.539 -11.088  0.000\n",
       "mnth[March]                  -29.5357    3.155  -9.361  0.000\n",
       "mnth[April]                   -4.6622    2.741  -1.701  0.089\n",
       "mnth[May]                     26.4700    2.851   9.285  0.000\n",
       "mnth[June]                    21.7317    3.465   6.272  0.000\n",
       "mnth[July]                    -0.7626    3.908  -0.195  0.845\n",
       "mnth[Aug]                      7.1560    3.535   2.024  0.043\n",
       "mnth[Sept]                    20.5912    3.046   6.761  0.000\n",
       "mnth[Oct]                     29.7472    2.700  11.019  0.000\n",
       "mnth[Nov]                     14.2229    2.860   4.972  0.000\n",
       "hr[0]                        -96.1420    3.955 -24.307  0.000\n",
       "hr[1]                       -110.7213    3.966 -27.916  0.000\n",
       "hr[2]                       -117.7212    4.016 -29.310  0.000\n",
       "hr[3]                       -127.2828    4.081 -31.191  0.000\n",
       "hr[4]                       -133.0495    4.117 -32.319  0.000\n",
       "hr[5]                       -120.2775    4.037 -29.794  0.000\n",
       "hr[6]                        -75.5424    3.992 -18.925  0.000\n",
       "hr[7]                         23.9511    3.969   6.035  0.000\n",
       "hr[8]                        127.5199    3.950  32.284  0.000\n",
       "hr[9]                         24.4399    3.936   6.209  0.000\n",
       "hr[10]                       -12.3407    3.936  -3.135  0.002\n",
       "hr[11]                         9.2814    3.945   2.353  0.019\n",
       "hr[12]                        41.1417    3.957  10.397  0.000\n",
       "hr[13]                        39.8939    3.975  10.036  0.000\n",
       "hr[14]                        30.4940    3.991   7.641  0.000\n",
       "hr[15]                        35.9445    3.995   8.998  0.000\n",
       "hr[16]                        82.3786    3.988  20.655  0.000\n",
       "hr[17]                       200.1249    3.964  50.488  0.000\n",
       "hr[18]                       173.2989    3.956  43.806  0.000\n",
       "hr[19]                        90.1138    3.940  22.872  0.000\n",
       "hr[20]                        29.4071    3.936   7.471  0.000\n",
       "hr[21]                        -8.5883    3.933  -2.184  0.029\n",
       "hr[22]                       -37.0194    3.934  -9.409  0.000\n",
       "workingday                     1.2696    1.784   0.711  0.477\n",
       "temp                         157.2094   10.261  15.321  0.000\n",
       "weathersit[cloudy/misty]     -12.8903    1.964  -6.562  0.000\n",
       "weathersit[heavy rain/snow] -109.7446   76.667  -1.431  0.152\n",
       "weathersit[light rain/snow]  -66.4944    2.965 -22.425  0.000"
      ]
     },
     "execution_count": 25,
     "metadata": {},
     "output_type": "execute_result"
    }
   ],
   "source": [
    "hr_encode = contrast(\"hr\", \"sum\")\n",
    "mnth_encode = contrast(\"mnth\", \"sum\")\n",
    "\n",
    "X2 = MS([mnth_encode, hr_encode, \"workingday\",\"temp\",\"weathersit\"]).fit_transform(Bike)\n",
    "M2_lm = sm.OLS(Y, X2).fit()\n",
    "S2 = summarize(M2_lm)\n",
    "S2\n",
    "# This model does not have mnth[Dec] and hr[23]. \n",
    "# The coefficients for these are the negatives of the sums of\n",
    "# all the other coefficients for the same estimate.\n",
    "# This allows the sum of all the coefficients to equal to 0.\n",
    "# For interpretation, this means that the coefficients are relative\n",
    "# to the yearly average (eg. Jan has 46 less than the yearly avg)"
   ]
  },
  {
   "cell_type": "code",
   "execution_count": 382,
   "id": "7cac9307",
   "metadata": {},
   "outputs": [
    {
     "data": {
      "text/plain": [
       "(np.float64(5.1709616094685985e-20), True)"
      ]
     },
     "execution_count": 382,
     "metadata": {},
     "output_type": "execute_result"
    }
   ],
   "source": [
    "np.sum((M_lm.fittedvalues - M2_lm.fittedvalues)**2), np.allclose(M_lm.fittedvalues, M2_lm.fittedvalues)\n",
    "# The sum of squared differences is zero  \n",
    "# So the choice of encoding doesnt matter"
   ]
  },
  {
   "cell_type": "code",
   "execution_count": 383,
   "id": "3c7abec5",
   "metadata": {},
   "outputs": [
    {
     "data": {
      "text/plain": [
       "Text(0, 0.5, 'Coefficient')"
      ]
     },
     "execution_count": 383,
     "metadata": {},
     "output_type": "execute_result"
    },
    {
     "data": {
      "image/png": "[encoded data removed]",
      "text/plain": [
       "<Figure size 800x800 with 1 Axes>"
      ]
     },
     "metadata": {},
     "output_type": "display_data"
    }
   ],
   "source": [
    "# Goal: make the graph shown on Fig 4.13\n",
    "# Subgoals: extract coeffs from Jan-Nov, compute Dec manually\n",
    "\n",
    "#months = Bike[\"mnth\"].dtype.categories\n",
    "coef_month = S2.loc[S2.index.str.contains(\"mnth\")]['coef']\n",
    "coef_month = pd.concat([coef_month, pd.Series([-coef_month.sum()],index=[\"mnth[Dec]\"])])\n",
    "coef_month\n",
    "\n",
    "fig_month, ax_month = subplots(figsize=(8,8))\n",
    "x_month = np.arange(coef_month.shape[0])\n",
    "ax_month.plot(x_month, coef_month,marker=\".\", ms=10)\n",
    "ax_month.set_xticks(x_month);\n",
    "ax_month.set_xticklabels([l[5] for l in coef_month.index]);\n",
    "ax_month.set_xlabel(\"Month\")\n",
    "ax_month.set_ylabel(\"Coefficient\")"
   ]
  },
  {
   "cell_type": "code",
   "execution_count": 384,
   "id": "724f72b7",
   "metadata": {},
   "outputs": [
    {
     "data": {
      "image/png": "[encoded data removed]",
      "text/plain": [
       "<Figure size 800x800 with 1 Axes>"
      ]
     },
     "metadata": {},
     "output_type": "display_data"
    }
   ],
   "source": [
    "# Goal: Right hand plot of Fig 4.13\n",
    "\n",
    "\n",
    "hours = S2.loc[S2.index.str.contains(\"hr\")][\"coef\"]\n",
    "hours = pd.concat([hours, pd.Series([-hours.sum()], index=[\"hr[23]\"])])\n",
    "x_hr = np.arange(hours.shape[0])\n",
    "fig_hrs, ax_hrs = subplots(figsize=(8,8))\n",
    "ax_hrs.plot(np.arange(24), hours, marker=\".\")\n",
    "ax_hrs.set_xticks(np.arange(24));\n",
    "# vvvv i'm stupid\n",
    "# hours.index.map(lambda x: x.split(\"[\")[1]).map(lambda y: y.split(\"]\")[0])\n",
    "ax_hrs.set_xlabel(\"Hours\")\n",
    "ax_hrs.set_ylabel(\"Coefficient\");"
   ]
  },
  {
   "cell_type": "code",
   "execution_count": 385,
   "id": "8efcec7d",
   "metadata": {},
   "outputs": [
    {
     "data": {
      "image/png": "[encoded data removed]",
      "text/plain": [
       "<Figure size 1600x800 with 2 Axes>"
      ]
     },
     "metadata": {},
     "output_type": "display_data"
    }
   ],
   "source": [
    "# Poisson Regression\n",
    "\n",
    "M_pois = sm.GLM(Y, X2, family=sm.families.Poisson()).fit()\n",
    "S_pois = summarize(M_pois)\n",
    "coef_month = S_pois[S_pois.index.str.contains(\"mnth\")][\"coef\"]\n",
    "coef_month = pd.concat([coef_month, pd.Series([-coef_month.sum()], index=[\"mnth[Dec]\"])])\n",
    "coef_hrs = S_pois[S_pois.index.str.contains(\"hr\")][\"coef\"]\n",
    "coef_hrs = pd.concat([coef_hrs, pd.Series([-coef_hrs.sum()],index=[\"hr[23]\"])])\n",
    "\n",
    "fig_pois, (ax_month, ax_hr) = subplots(1,2, figsize=(16,8))\n",
    "ax_month.plot(x_month, coef_month, marker=\".\")\n",
    "ax_month.set_xticks(x_month)\n",
    "ax_month.set_xticklabels(l[5] for l in coef_month.index)\n",
    "\n",
    "ax_hr.plot(x_hr, coef_hrs, marker=\".\")\n",
    "ax_hr.set_xticks(x_hr)\n",
    "ax_hr.set_xticklabels(np.arange(24));\n"
   ]
  },
  {
   "cell_type": "code",
   "execution_count": 386,
   "id": "d1d84e57",
   "metadata": {},
   "outputs": [
    {
     "data": {
      "image/png": "[encoded data removed]",
      "text/plain": [
       "<Figure size 800x800 with 1 Axes>"
      ]
     },
     "metadata": {},
     "output_type": "display_data"
    }
   ],
   "source": [
    "fig, ax = subplots(figsize=(8,8))\n",
    "ax.scatter(M2_lm.fittedvalues, M_pois.fittedvalues)\n",
    "ax.set_xlabel(\"Linear Regression Predictions\")\n",
    "ax.set_ylabel(\"Poisson Predictions\")\n",
    "ax.axline([0,0], c=\"black\", linewidth=3, linestyle=\"--\", slope=1);\n",
    "\n",
    "\n",
    "# From here we can see that poisson approximately maps the linear\n",
    "# fit but poisson is positive for all predictions."
   ]
  },
  {
   "cell_type": "markdown",
   "id": "973a8d80",
   "metadata": {},
   "source": [
    "#### 4.8a Conceptual Exercises"
   ]
  },
  {
   "cell_type": "markdown",
   "id": "2ea79612",
   "metadata": {},
   "source": [
    "1. Trivial.\n",
    "\n",
    "2. Also apparently trivial. Keep dropping terms in 4.17 which do not include k (eg. first drop the denominator), then take logs.\n",
    "\n",
    "3. Also trivial. Follow process on 2) but one the x^2 term now is not cancelled out as the variances are different, and the x^2 term now depends on the variances.\n",
    "\n",
    "4. a) 10% - if the observations are uniform, then sampling a range which accounts for 10% of the distribution results in a sample of 10% of observations\n",
    "   \n",
    "   b) 1% - For 2 dimensions following the same logic, we would have 10%^2.\n",
    "\n",
    "   c) 10% ^ 100.\n",
    "\n",
    "   d) When p is very large, for any given n, only a small proportion of n will be sampled and used to determine the class of any prediction.\n",
    "\n",
    "   e) 0.1 ^ (1/p) - to sample 10% of the population, you would need to consider a larger range of observations for each dimension. For 0.1^(1/100), you would be considering almost all of the observations per dimension.\n",
    "\n",
    "5. a) Linear - QDA performs better on training (more flexible), LDA performs better on test (closer to true)\n",
    "   \n",
    "   b) Non-linear - QDA outperforms LDA on training and test\n",
    "\n",
    "   c) QDA should outperform LDA in general due to flexibility ? [Ans: that was right]\n",
    "\n",
    "   d) False - overfitting.\n",
    "\n",
    "6. a) Using: \n",
    "$$p(X) = \\frac{e^{\\beta_0+\\beta_1X}}{1+e^{\\beta_0+\\beta_1X}}$$\n",
    "We get 0.378.\n",
    "   b) h = 50.\n",
    "\n",
    "7.\n",
    "$$p_k(x)=\\frac{\\pi_kf_k(x)}{\\sum^{K}_{l=1}\\pi_l f_l(x)}$$\n",
    "We have:\n",
    "$$\\pi_k = 80\\%, \\hat{\\mu}_1=10,\\hat{\\mu}_2=0,\\hat{\\sigma}^2=36$$\n",
    "$$p_k(x) = \\frac{0.8 \\times \\frac{1}{\\sqrt{2\\pi(36)^2}}e^{\\frac{-(4-(10))^2}{2(36)^2}}}{0.2 \\times \\frac{1}{\\sqrt{2\\pi(36)^2}}e^{\\frac{-(4-(0))^2}{2(36)^2}} + 0.8 \\times \\frac{1}{\\sqrt{2\\pi(36)^2}}e^{\\frac{-(4-(10))^2}{2(36)^2}}}$$\n",
    "$$\\approx 0.80$$\n",
    "\n",
    "8. Intuitively it looks like logistic's 30% is worse than KNN's 18% (on average). Obviously, there must be a reason they ask this question. Is the error rate for training data for KNN with K = 1 0%? That would mean that the test error rate was actually 36%? [Ans: yes, 1-NN does have a 0% training data error rate because the nearest neighbour to all training points are the training points themselves]\n",
    "\n",
    "\n",
    "9.  a) 0.37 / 1.37 \n",
    "    \n",
    "    b) 0.16 / 0.84\n",
    "\n",
    "10.  "
   ]
  },
  {
   "cell_type": "markdown",
   "id": "f4bcfbfa",
   "metadata": {},
   "source": [
    "#### 4.8b Applied Exercises"
   ]
  },
  {
   "cell_type": "markdown",
   "id": "aa4282e7",
   "metadata": {},
   "source": [
    "#### SUMMARY\n"
   ]
  },
  {
   "cell_type": "markdown",
   "id": "b8f89e13",
   "metadata": {},
   "source": [
    "- KNN\n",
    "  - Based on class of K nearest neighbours\n",
    "  - No assumptions, non-parametric\n",
    "  - Good for non-linear, high n, low p\n",
    "- Logistic\n",
    "  - Models probability by logistic function\n",
    "  - Assumes linear relationship between X and log odds\n",
    "  - Linear decision boundary\n",
    "- LDA\n",
    "  - Assumes normality, equal (shared) covariances\n",
    "  - Finds linear combination of features that performs best\n",
    "  - Outperforms logistic if normality holds\n",
    "  - Linear decision boundary\n",
    "- QDA\n",
    "  - Assumes normality, class-specific covariance matrices\n",
    "  - Good for non-linear, low n (but higher n tends to favour QDA over LDA), low p?\n",
    "  - Non-linear (quadratic) decision boundaries\n",
    "- Naive Bayes\n",
    "  - Assumes independence of predictors\n",
    "  - Worse than LDA, QDA if high p, low n\n",
    "\n",
    "\n",
    "ROC Curve\n",
    "- True positive rate against false positive rate\n",
    "- Good fit = hugs left and top sides\n",
    "- Poor fit = line shaped like y = x\n",
    "- AUC (Area under Curve) close to 1 = good fit, close to 0.5 = poor fit"
   ]
  },
  {
   "cell_type": "markdown",
   "id": "7dab8f84",
   "metadata": {},
   "source": [
    "#### PYTHON CHEATSHEET"
   ]
  },
  {
   "cell_type": "code",
   "execution_count": 74,
   "id": "86c6aa5b",
   "metadata": {},
   "outputs": [
    {
     "name": "stdout",
     "output_type": "stream",
     "text": [
      "      const   Lag1   Lag2   Lag3   Lag4   Lag5   Volume\n",
      "0       1.0  0.381 -0.192 -2.624 -1.055  5.010  1.19130\n",
      "1       1.0  0.959  0.381 -0.192 -2.624 -1.055  1.29650\n",
      "2       1.0  1.032  0.959  0.381 -0.192 -2.624  1.41120\n",
      "3       1.0 -0.623  1.032  0.959  0.381 -0.192  1.27600\n",
      "4       1.0  0.614 -0.623  1.032  0.959  0.381  1.20570\n",
      "...     ...    ...    ...    ...    ...    ...      ...\n",
      "1245    1.0  0.422  0.252 -0.024 -0.584 -0.285  1.88850\n",
      "1246    1.0  0.043  0.422  0.252 -0.024 -0.584  1.28581\n",
      "1247    1.0 -0.955  0.043  0.422  0.252 -0.024  1.54047\n",
      "1248    1.0  0.130 -0.955  0.043  0.422  0.252  1.42236\n",
      "1249    1.0 -0.298  0.130 -0.955  0.043  0.422  1.38254\n",
      "\n",
      "[1250 rows x 7 columns] 0        True\n",
      "1        True\n",
      "2       False\n",
      "3        True\n",
      "4        True\n",
      "        ...  \n",
      "1245     True\n",
      "1246    False\n",
      "1247     True\n",
      "1248    False\n",
      "1249    False\n",
      "Name: Direction, Length: 1250, dtype: bool\n"
     ]
    }
   ],
   "source": [
    "## ## ## ## ## ## ## ## Base Imports + Setup ## ## ## ## ## ## ## ##\n",
    "\n",
    "import numpy as np\n",
    "import pandas as pd\n",
    "\n",
    "from ISLP import load_data\n",
    "import statsmodels.api as sm\n",
    "from ISLP.models import contrast\n",
    "\n",
    "data = load_data('Smarket')\n",
    "predictor_columns = data.columns.drop(['Today', 'Direction', 'Year'])\n",
    "\n",
    "X = data[predictor_columns]\n",
    "X = sm.add_constant(X) # Adds the \"const\" column\n",
    "y = (data.Direction == 'Up') # outcome to be predicted\n",
    "\n",
    "print(X, y)"
   ]
  },
  {
   "cell_type": "code",
   "execution_count": 75,
   "id": "c82dcdb3",
   "metadata": {},
   "outputs": [],
   "source": [
    "## ## ## ## ## ## ## ## Train/Test Splitter ## ## ## ## ## ## ## ##\n",
    "\n",
    "from sklearn.model_selection import train_test_split\n",
    "(X_train, X_test, y_train, y_test) = train_test_split(X, y, test_size=int(len(X)*0.2), random_state=0)\n",
    "# print(X_train, X_test, y_train, y_test)\n",
    "## Alternative manual train/test split:\n",
    "# train = (Smarket.Year < 2005) ## (or something else to select a certain sample of the dataset)\n",
    "# X_train, X_test = X.loc[train], X.loc[~train]\n",
    "# y_train, y_test = y.loc[train], y.loc[~train]\n",
    "\n",
    "## ## ## ## ## ## ## ## ## ## ## ## ## ## ## ## ## ## ## ## ## ## ## ##"
   ]
  },
  {
   "cell_type": "code",
   "execution_count": 76,
   "id": "e954dced",
   "metadata": {},
   "outputs": [],
   "source": [
    "## ## ## ## ## ## ## ## Logistic Regression ## ## ## ## ## ## ## ##\n",
    "\n",
    "## ## ## ## Logistic Regression through sm.GLM\n",
    "import statsmodels.api as sm\n",
    "logit = sm.GLM(y_train,\n",
    "              X_train,\n",
    "              family = sm.families.Binomial()) ## binomial = logistic\n",
    "results = logit.fit()\n",
    "\n",
    "## ## \n",
    "# print(results.summary()) ## Shows entire summary of the regression model\n",
    "# print(results.params) ## Takes coefficients (see summary)\n",
    "# print(results.pvalues) ## Takes pvalues (see summary)\n",
    "# print(results.predict(exog = X_test)) ## Gives probabilities for each datapoint. Closer to 1 (eg. > 0.5) means \"Up\" as defined by y = ... earlier\n",
    "\n",
    "## ## The following translates True/False predictions into an array\n",
    "probs = results.predict(exog = X_test)\n",
    "labels = np.array([\"Down\"]*len(X_test))\n",
    "labels[probs > 0.5] = \"Up\" \n",
    "\n",
    "## ## Confusion Matrix\n",
    "from sklearn.metrics import confusion_matrix\n",
    "conf_y_true = y_test.map(lambda x: \"Up\" if x else \"Down\")\n",
    "conf_y_pred = labels\n",
    "# print(confusion_matrix(conf_y_true, conf_y_pred))\n",
    "## Conventionally, confusion_matrix(y_true, y_pred)\n",
    "## The rows represent the actual data, the columns represent predicted data\n",
    "## The table is ordered alphabetically\n",
    "## So, in the case above, we get:\n",
    "##             Pred Down  Pred Up\n",
    "## Actual Down     26        97\n",
    "## Actual Up       33        94\n",
    "\n",
    "# print(np.mean(conf_y_true == conf_y_pred)) ## Gives the average amount of correct predictions\n",
    "\n",
    "## Predicting new data with only 2 of the predictors, for new data\n",
    "newmodel = X[[\"Lag1\", \"Lag2\"]]\n",
    "newX = sm.add_constant(newmodel)\n",
    "(newX_train, newX_test, newy_train, newy_test) = train_test_split(newX, y, test_size=int(len(newX)*0.2), random_state=0)\n",
    "newLogit = sm.GLM(newy_train,\n",
    "                  newX_train,\n",
    "                  family=sm.families.Binomial())\n",
    "newresults = newLogit.fit()\n",
    "newdata = pd.DataFrame({\"Lag1\":[1.2,1.5],\n",
    "                        \"Lag2\":[1.1, -0.8]})\n",
    "newdata = sm.add_constant(newdata)\n",
    "# print(newresults.predict(newdata))\n",
    "\n",
    "## ## ## ## Logistic Regression through LogisticRegression\n",
    "from sklearn.linear_model import LogisticRegression\n",
    "logit = LogisticRegression(C=1e10, solver=\"liblinear\")\n",
    "logit.fit(X_train, y_train)\n",
    "logit_pred = logit.predict_proba(X_test) ## Probabilities for each class\n",
    "\n",
    "## ## ## ## ## ## ## ## ## ## ## ## ## ## ## ## ## ## ## ## ## ## ## ##\n",
    "\n",
    "\n"
   ]
  },
  {
   "cell_type": "code",
   "execution_count": 77,
   "id": "b15f913c",
   "metadata": {},
   "outputs": [
    {
     "data": {
      "text/plain": [
       "np.True_"
      ]
     },
     "execution_count": 77,
     "metadata": {},
     "output_type": "execute_result"
    }
   ],
   "source": [
    "## ## ## ## ## ## ## ## LDA ## ## ## ## ## ## ## ##\n",
    "from sklearn.discriminant_analysis import LinearDiscriminantAnalysis as LDA\n",
    "lda = LDA(store_covariance=True)\n",
    "\n",
    "L_train, L_test = data.loc[X_train.index].Direction, data.loc[X_test.index].Direction\n",
    "## We already have X_train and X_test from the earlier split.\n",
    "## We take the direction for the corresponding indices in each group\n",
    "\n",
    "ldaModel = X[[\"Lag1\", \"Lag2\"]] ## We are only using Lag1 and Lag2 as predictors here.\n",
    "ldaX = sm.add_constant(ldaModel)\n",
    "ldaX_train, ldaX_test = ldaX.loc[X_train.index], ldaX.loc[X_test.index]\n",
    "ldaX_train, ldaX_test = [M.drop(columns=[\"const\"]) for M in [ldaX_train, ldaX_test]]\n",
    "lda.fit(ldaX_train, L_train) ## Fitting the training predictors and outcomes together\n",
    "## We set up the actual datapoints for the train/test which correspond\n",
    "## to the same indices as that of L_train, L_test.\n",
    "## We drop the const columns as lda automatically adds an intercept.\n",
    "\n",
    "# print(lda.means_)\n",
    "## lda.means_ returns estimated means for each class k (\"Down\" and \"Up\") in this case\n",
    "## So market going down associated with previous 2 days being positive and vice versa\n",
    "## ie. 0.0454 is the MEAN for LAG1 when DOWN, 0.0445 is the MEAN for LAG2 when DOWN\n",
    "## ie. -0.0359 is the MEAN for LAG1 when UP, -0.0270 is the MEAN for LAG2 when UP\n",
    "\n",
    "# print(lda.classes_) \n",
    "## Confirms the order of classes\n",
    "\n",
    "# print(lda.priors_) \n",
    "## Priors demonstrate the % of each in the separate classes within the training set\n",
    "## ie. Down = 0.479, Up = 0.521 \n",
    "\n",
    "# print(lda.scalings_)\n",
    "## These are the weights attributed to the model. \n",
    "## ie. score = (-0.65 x Lag1) + (-0.60 x Lag2)\n",
    "## High score = Up, Low score = Down\n",
    "\n",
    "lda_pred = lda.predict(ldaX_test) # Predict for given data set (in this case, test data)\n",
    "# print(confusion_matrix(L_test, lda_pred)) ## Confusion matrix\n",
    "\n",
    "lda_prob = lda.predict_proba(ldaX_test)\n",
    "# print(lda_prob)\n",
    "## An array of arrays with probabilities for each class, for each observation\n",
    "## Again, order in this case is \"Down\", \"Up\", so the second value in each observation is \n",
    "## the predicted \"Up\" value.\n",
    "\n",
    "# lda.predict bases off the maximum value to classify the observation\n",
    "# This allows it to works for multiple classes:\n",
    "np.all([lda.classes_[i] for i in np.argmax(lda_prob, 1)] == lda_pred)"
   ]
  },
  {
   "cell_type": "code",
   "execution_count": 78,
   "id": "80cad8c2",
   "metadata": {},
   "outputs": [],
   "source": [
    "## ## ## ## ## ## ## ## QDA ## ## ## ## ## ## ## ##\n",
    "from sklearn.discriminant_analysis import QuadraticDiscriminantAnalysis as QDA\n",
    "\n",
    "# All the functions for LDA can be used for QDA. \n",
    "# The only thing unique is qda.covariance_[i] does estimate a covariance per class\n",
    "# (where qda is QDA(store_covariance=true).fit(X_train, y_train))"
   ]
  },
  {
   "cell_type": "code",
   "execution_count": 79,
   "id": "732e86a2",
   "metadata": {},
   "outputs": [],
   "source": [
    "## ## ## ## ## ## ## ## NB ## ## ## ## ## ## ## ##\n",
    "from sklearn.naive_bayes import GaussianNB\n",
    "\n",
    "nbX = X[[\"Lag1\", \"Lag2\"]]\n",
    "nbX_train, nbX_test = nbX.loc[X_train.index], nbX.loc[X_test.index]\n",
    "\n",
    "\n",
    "NB = GaussianNB()\n",
    "NB.fit(nbX_train, L_train)\n",
    "## Remember, nbX_train is our subset of the X population used for training.\n",
    "## But only focusing on Lag1 and Lag2\n",
    "## L_train is the equivalent predictions for each newX_train (Up/Down)\n",
    "\n",
    "# print(NB.classes_, NB.class_prior_)\n",
    "# print(NB.theta_, NB.var_) ## Parameters used for NB\n",
    "# print(nbX_train[L_train == \"Down\"].mean()) \n",
    "## This confirms that the first row of NB.theta_ corresponds to \"Down\"\n",
    "# print(nbX_train[L_train == \"Down\"].var(ddof = 0))\n",
    "## This confirms that the first row of NB.var_ corresponds to \"Down\"\n",
    "\n",
    "nb_labels = NB.predict(nbX_test)\n",
    "# print(confusion_matrix(nb_labels, L_test), np.mean(nb_labels == L_test))\n",
    "# print(NB.predict_proba(nbX_test)) ## NB also has predict_proba"
   ]
  },
  {
   "cell_type": "code",
   "execution_count": null,
   "id": "c66902af",
   "metadata": {},
   "outputs": [
    {
     "name": "stdout",
     "output_type": "stream",
     "text": [
      "K=1. Pred: 62. Actual: 9. Accuracy: 14.5%\n",
      "K=2. Pred:  6. Actual: 1. Accuracy: 16.7%\n",
      "K=3. Pred: 20. Actual: 3. Accuracy: 15.0%\n",
      "K=4. Pred:  4. Actual: 0. Accuracy: 0.0%\n",
      "K=5. Pred:  7. Actual: 1. Accuracy: 14.3%\n"
     ]
    }
   ],
   "source": [
    "## ## ## ## ## ## ## ## KNN ## ## ## ## ## ## ## ##\n",
    "\n",
    "## ## ## ## A different data set will be used for KNN\n",
    "data = load_data(\"Caravan\")\n",
    "y = data.Purchase # Did they purchase insurance? (Yes/No)\n",
    "feature_df = data.drop(columns=[\"Purchase\"])\n",
    "\n",
    "\n",
    "## ## ## ## Scaling\n",
    "## A problem with KNN is that a variable may be large in value but relatively small in context (eg. $1000 salary and 60y age)\n",
    "## This is fixed by standardizing the data so all variables have mean 0 and sd 1.\n",
    "from sklearn.preprocessing import StandardScaler\n",
    "X_std = StandardScaler(with_mean = True, with_std = True, copy = True).fit(feature_df).transform(feature_df)\n",
    "feature_std = pd.DataFrame(X_std, columns= feature_df.columns)\n",
    "(X_train, X_test, y_train, y_test) = train_test_split(feature_std, y, test_size=1000, random_state=0)\n",
    "\n",
    "## ## ## ## Using KNN \n",
    "from sklearn.neighbors import KNeighborsClassifier as KNC\n",
    "knn = KNC(n_neighbors=1)\n",
    "knn_pred = knn.fit(X_train, y_train).predict(X_test)\n",
    "np.mean(y_test != knn_pred), np.mean(y_test != \"No\")\n",
    "## While the 11% error rate appears good, our error rate would be \n",
    "## 7% just by predicting No (null rate) because of how low the amount\n",
    "## of \"Yes\"s there are. For insurance companies, we might be more\n",
    "## concerned about PPV - given that our model predicts \"Yes\", \n",
    "## what is the probability that they were correct?\n",
    "\n",
    "confusion_matrix(y_test, knn_pred)\n",
    "## This tells us our PPV is 9 / (53+9) = 0.145 (double than random guessing)\n",
    "\n",
    "\n",
    "## ## ## ## Tuning\n",
    "\n",
    "## Number of neighbors in KNN = tuning parameter/hyperparameter\n",
    "##   - We do not know what value to use a priori\n",
    "##   - We can use a for loop to see K = 1 to 5:\n",
    "\n",
    "for K in range(1,6):\n",
    "    knnVar = KNC(n_neighbors = K)\n",
    "    knnVar_pred = knnVar.fit(X_train, y_train).predict(X_test)\n",
    "    C = confusion_matrix(y_test, knnVar_pred)\n",
    "    templ = (\"K={0:d}. Pred: {1:>2}. Actual: {2:d}. Accuracy: {3:.1%}\")\n",
    "    pred = C[:,1].sum() # Selects the number of \"Yes\" predictions, then sums\n",
    "    did_rent = C[1,1] # Total correct \"Yes\" predictions\n",
    "    print(templ.format(\n",
    "        K,\n",
    "        pred,\n",
    "        did_rent,\n",
    "        did_rent/pred\n",
    "    ))\n",
    "del C"
   ]
  },
  {
   "cell_type": "code",
   "execution_count": 81,
   "id": "b78a7aa9",
   "metadata": {},
   "outputs": [
    {
     "data": {
      "image/png": "[encoded data removed]",
      "text/plain": [
       "<Figure size 1600x800 with 2 Axes>"
      ]
     },
     "metadata": {},
     "output_type": "display_data"
    }
   ],
   "source": [
    "## ## ## ## ## ## ## ## Linear ## ## ## ## ## ## ## ##\n",
    "\n",
    "## ## ## ## A different data set will be used for Linear Regression\n",
    "from patsy import dmatrix\n",
    "data = load_data(\"Bikeshare\")\n",
    "Y = data[\"bikers\"]\n",
    "X2 = dmatrix(\"C(mnth, Sum) + C(hr, Sum) + workingday + temp + weathersit\", data, return_type='dataframe')\n",
    "## We're using a sum encoding here, with dmatrix from patsy to create\n",
    "## a design matrix where mnth and hr are encoded.\n",
    "## The coefficients are deviations from the overall mean, and the\n",
    "## baseline (not included, mnth[Dec] and hr[23]) have a coefficient\n",
    "## which is the negative of the sum of the other related coefficients.\n",
    "\n",
    "## ## ## ## Linear Regression\n",
    "import statsmodels.api as sm\n",
    "M2_lm = sm.OLS(Y, X2).fit() # Fit a linear regression model (seen before)\n",
    "#print(M2_lm.summary())\n",
    "\n",
    "## ## ## ## Plotting Linear Regression Results\n",
    "\n",
    "coef_month = M2_lm.params[M2_lm.params.index.str.contains(\"mnth\")]\n",
    "coef_month = pd.concat([coef_month, pd.Series([-coef_month.sum()], index = [\"C(mnth, Sum)[S.Dec]\"])])\n",
    "coef_hrs = M2_lm.params[M2_lm.params.index.str.contains(\"hr\")]\n",
    "coef_hrs = pd.concat([coef_hrs, pd.Series([-coef_hrs.sum()], index = [\"C(hr, Sum)[S.23]\"])])\n",
    "\n",
    "from matplotlib.pyplot import subplots\n",
    "fig, (ax_month, ax_hrs) = subplots(1,2, figsize=(16,8))\n",
    "ax_month.plot(np.arange(coef_month.shape[0]),coef_month)\n",
    "ax_month.set_xticks(np.arange(coef_month.shape[0]))\n",
    "ax_month.set_xticklabels([l[15] for l in coef_month.index])\n",
    "\n",
    "ax_hrs.plot(np.arange(24), coef_hrs)\n",
    "ax_hrs.set_xticks(np.arange(24))\n",
    "ax_hrs.set_xticklabels(np.arange(24));"
   ]
  },
  {
   "cell_type": "code",
   "execution_count": null,
   "id": "c058f84a",
   "metadata": {},
   "outputs": [
    {
     "data": {
      "image/png": "[encoded data removed]",
      "text/plain": [
       "<Figure size 1600x800 with 2 Axes>"
      ]
     },
     "metadata": {},
     "output_type": "display_data"
    }
   ],
   "source": [
    "## ## ## ## ## ## ## ## Poisson ## ## ## ## ## ## ## ##\n",
    "\n",
    "## ## ## ## We will use the same Bike dataset as linear regression:\n",
    "from patsy import dmatrix\n",
    "data = load_data(\"Bikeshare\")\n",
    "Y = data[\"bikers\"]\n",
    "X2 = dmatrix(\"C(mnth, Sum) + C(hr, Sum) + workingday + temp + weathersit\", data, return_type='dataframe')\n",
    "\n",
    "## ## ## ## Poisson Regression\n",
    "import statsmodels.api as sm\n",
    "M_pois = sm.GLM(Y, X2, family = sm.families.Poisson()).fit()\n",
    "# print(M_pois.summary())\n",
    "\n",
    "## ## ## ## Plotting Poisson Regression Results\n",
    "coef_month = M_pois.params[M_pois.params.index.str.contains(\"mnth\")]\n",
    "coef_month = pd.concat([coef_month, pd.Series([-coef_month.sum()], index = [\"C(mnth, Sum)[S.Dec]\"])])\n",
    "coef_hrs = M_pois.params[M_pois.params.index.str.contains(\"hr\")]\n",
    "coef_hrs = pd.concat([coef_hrs, pd.Series([-coef_hrs.sum()], index = [\"C(hr, Sum)[S.23]\"])])\n",
    "\n",
    "from matplotlib.pyplot import subplots\n",
    "fig, (ax_month, ax_hrs) = subplots(1,2, figsize=(16,8))\n",
    "ax_month.plot(np.arange(coef_month.shape[0]),coef_month)\n",
    "ax_month.set_xticks(np.arange(coef_month.shape[0]))\n",
    "ax_month.set_xticklabels([l[15] for l in coef_month.index])\n",
    "\n",
    "ax_hrs.plot(np.arange(24), coef_hrs)\n",
    "ax_hrs.set_xticks(np.arange(24))\n",
    "ax_hrs.set_xticklabels(np.arange(24));"
   ]
  }
 ],
 "metadata": {
  "kernelspec": {
   "display_name": ".venv",
   "language": "python",
   "name": "python3"
  },
  "language_info": {
   "codemirror_mode": {
    "name": "ipython",
    "version": 3
   },
   "file_extension": ".py",
   "mimetype": "text/x-python",
   "name": "python",
   "nbconvert_exporter": "python",
   "pygments_lexer": "ipython3",
   "version": "3.13.5"
  }
 },
 "nbformat": 4,
 "nbformat_minor": 5
}
