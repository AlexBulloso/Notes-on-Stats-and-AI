{
 "cells": [
  {
   "cell_type": "markdown",
   "id": "5742f662",
   "metadata": {},
   "source": [
    "##### 3.1 OLS for Simple Linear Regression"
   ]
  },
  {
   "cell_type": "markdown",
   "id": "aed6c91c",
   "metadata": {},
   "source": [
    "Goal: minimise coefficients of $S = \\sum_{i=1}^{n}(y_i-\\beta_0-\\beta_1x_i)^2$\n",
    "\n",
    "$$\\text{Solving for }\\beta_0 \\text{which minimises when } \\frac{\\partial S}{\\partial \\beta_0}=0:$$ \n",
    "$$\\text{Let each term } z_i^2 = (y_i-\\beta_0-\\beta_1x_i)^2$$\n",
    "$$\\frac{\\partial}{\\partial \\beta_0}z_i^2 = 2z_i\\frac{\\partial z}{\\partial \\beta_0}$$\n",
    "$$\\frac{\\partial z_i}{\\partial \\beta_0}z_i^2 = -1$$\n",
    "$$\\therefore \\frac{\\partial S}{\\partial \\beta_0}=-2\\sum_{i=1}^{n}(y_i-\\beta_0-\\beta_1x_i)$$\n",
    "$$\\text{Minimised when }\\sum_{i=1}^{n}(y_i-\\beta_0-\\beta_1x_i) = 0 \\tag{1}$$\n",
    "\n",
    "$$\\text{Solving for }\\beta_1 \\text{which minimises when } \\frac{\\partial S}{\\partial \\beta_1}=0:$$ \n",
    "$$\\frac{\\partial}{\\partial \\beta_1}z_i^2 = 2z_i\\frac{\\partial z_i}{\\partial \\beta_1}$$\n",
    "$$\\frac{\\partial z_i}{\\partial \\beta_1}=-x_i \\Rarr \\frac{\\partial}{\\partial \\beta_1}z^2_i = -2x_i(y_i-\\beta_0-\\beta_1x_i)=0$$\n",
    "$$\\therefore \\frac{\\partial S}{\\partial \\beta_1} = \\sum_{i=1}^{n}x_i(y_i-\\beta_0-\\beta_1x_i)=0 \\tag{2}$$\n",
    "\n",
    "$$\\text{From (1):}$$\n",
    "$$\\sum y_i - n\\beta_0 -\\beta_1 \\sum x_i = 0$$\n",
    "$$\\beta_0 = \\bar{y}- \\beta_1 \\bar{x} \\tag{3*}$$\n",
    "\n",
    "$$\\text{From (2):}$$\n",
    "$$\\sum x_iy_i - \\beta_0\\sum x_i -\\beta_1 \\sum x_i^2 = 0$$\n",
    "$$\\text{Substitute (3) into equation}$$\n",
    "$$\\sum x_iy_i - (\\bar{y}- \\beta_1 \\bar{x})\\sum x_i -\\beta_1 \\sum x_i^2 = 0$$\n",
    "$$\\sum x_iy_i - \\bar{y}\\sum x_i = \\beta_1 \\sum x_i^2 - \\beta_1 \\bar{x}\\sum x_i $$\n",
    "$$\\therefore \\hat{\\beta_1} = \\frac{\\sum^{n}_{i=1}x_iy_i-n\\bar{x}\\bar{y}}{\\sum^{n}_{i=1}x_i^2-n\\bar{x}^2}$$ \n",
    "$$\\text{Final minimum for each coefficient:}$$\n",
    "$$\\hat{\\beta_1}=\\frac{\\sum^{n}_{i=1}(x_i-\\bar{x})(y_i-\\bar{y})}{\\sum^{n}_{i=1}(x_i-\\bar{x})^2}$$\n",
    "$$\\hat{\\beta}_0=\\bar{y}-\\hat{\\beta_1}\\bar{x} \\text{ (Same as eq 3)}$$\n",
    "\n",
    "$$\\text{* }\\bar{x} \\text{ and }\\bar{y} \\text{ are defined with } \\bar{k} = \\frac{\\sum_{i=1}^{n} k_i}{n} $$\n"
   ]
  }
 ],
 "metadata": {
  "language_info": {
   "name": "python"
  }
 },
 "nbformat": 4,
 "nbformat_minor": 5
}
